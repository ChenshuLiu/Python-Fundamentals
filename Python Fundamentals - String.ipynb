{
 "cells": [
  {
   "cell_type": "markdown",
   "id": "0246740d",
   "metadata": {},
   "source": [
    "# String"
   ]
  },
  {
   "cell_type": "markdown",
   "id": "b2bfbf9f",
   "metadata": {},
   "source": [
    "## String Definition"
   ]
  },
  {
   "cell_type": "markdown",
   "id": "4953d05e",
   "metadata": {},
   "source": [
    "### Quote Recursion\n",
    "Quote recursion is quotes within the string definition quotes"
   ]
  },
  {
   "cell_type": "code",
   "execution_count": 9,
   "id": "c34fb8f4",
   "metadata": {},
   "outputs": [
    {
     "name": "stdout",
     "output_type": "stream",
     "text": [
      "my_string with single and double quotes is I'm a programmer\n",
      "my_string with escape sign is I'm a programmer\n"
     ]
    }
   ],
   "source": [
    "# quote recursion in string definition\n",
    "# need to use alternating double/single quotes\n",
    "my_string = \"I'm a programmer\"\n",
    "print(f\"my_string with single and double quotes is {my_string}\")\n",
    "# or use escape sign '\\'\n",
    "my_string = 'I\\'m a programmer'\n",
    "print(f\"my_string with escape sign is {my_string}\")"
   ]
  },
  {
   "cell_type": "markdown",
   "id": "6248fdbe",
   "metadata": {},
   "source": [
    "### Multiline String Definition"
   ]
  },
  {
   "cell_type": "code",
   "execution_count": 11,
   "id": "fdf9c65c",
   "metadata": {},
   "outputs": [
    {
     "name": "stdout",
     "output_type": "stream",
     "text": [
      "the multiline string is \n",
      "First line\n",
      "Second line\n",
      "Third line\n"
     ]
    }
   ],
   "source": [
    "# multiline is definied through triple quotes\n",
    "my_string = \"\"\"\n",
    "First line\n",
    "Second line\n",
    "Third line\"\"\"\n",
    "print(f\"the multiline string is {my_string}\")"
   ]
  },
  {
   "cell_type": "markdown",
   "id": "6cea954e",
   "metadata": {},
   "source": [
    "### String Concatenation"
   ]
  },
  {
   "cell_type": "code",
   "execution_count": 12,
   "id": "57460599",
   "metadata": {},
   "outputs": [
    {
     "name": "stdout",
     "output_type": "stream",
     "text": [
      "the concatenated string is Hello Tom\n"
     ]
    }
   ],
   "source": [
    "# string concatenation\n",
    "greeting = \"Hello\"\n",
    "name = \"Tom\"\n",
    "sentence = greeting + \" \" + name\n",
    "print(f\"the concatenated string is {sentence}\")"
   ]
  },
  {
   "cell_type": "markdown",
   "id": "533f41b2",
   "metadata": {},
   "source": [
    "## String Manipulation"
   ]
  },
  {
   "cell_type": "markdown",
   "id": "fa6a5b15",
   "metadata": {},
   "source": [
    "### Join and Split"
   ]
  },
  {
   "cell_type": "code",
   "execution_count": 13,
   "id": "86da8415",
   "metadata": {},
   "outputs": [
    {
     "name": "stdout",
     "output_type": "stream",
     "text": [
      "my_string how are you doing\n",
      "after splitting is ['how', 'are', 'you', 'doing']\n",
      "after joining is how_are_you_doing\n"
     ]
    }
   ],
   "source": [
    "my_string = \"how are you doing\"\n",
    "print(f\"my_string {my_string}\")\n",
    "# split the string into individual strings by word\n",
    "# default separator is space \" \"\n",
    "my_list = my_string.split()\n",
    "print(f\"after splitting is {my_list}\")\n",
    "# concatenate strings to one\n",
    "new_string = \"_\".join(my_list)\n",
    "print(f\"after joining is {new_string}\")"
   ]
  },
  {
   "cell_type": "markdown",
   "id": "b8ec8524",
   "metadata": {},
   "source": [
    "### Bad Practice of Joining\n",
    "It is **bad** practice to join list into string using iteration"
   ]
  },
  {
   "cell_type": "code",
   "execution_count": 5,
   "id": "17502fe6",
   "metadata": {},
   "outputs": [
    {
     "name": "stdout",
     "output_type": "stream",
     "text": [
      "['a', 'a', 'a', 'a', 'a', 'a']\n",
      "aaaaaa\n"
     ]
    }
   ],
   "source": [
    "my_list = [\"a\"] * 6\n",
    "print(my_list)\n",
    "my_string = \"\" # empty string\n",
    "for i in my_list:\n",
    "    my_string += i # BAD CODE!\n",
    "    # string is immutable, which will create a new string each iteration\n",
    "    # takes a lot of memory\n",
    "print(my_string)"
   ]
  },
  {
   "cell_type": "markdown",
   "id": "2e37c4d4",
   "metadata": {},
   "source": [
    "### Strip Method\n",
    "The `strip` method can remove excess white spaces"
   ]
  },
  {
   "cell_type": "code",
   "execution_count": 15,
   "id": "8bf0c3f5",
   "metadata": {
    "scrolled": true
   },
   "outputs": [
    {
     "name": "stdout",
     "output_type": "stream",
     "text": [
      "string with white spaces is      Hello World     \n",
      "string after removing white spaces is Hello World\n"
     ]
    }
   ],
   "source": [
    "# cleaning strings with white spaces\n",
    "my_string = \"     Hello World     \"\n",
    "print(f\"string with white spaces is {my_string}\")\n",
    "my_string = my_string.strip()\n",
    "print(f\"string after removing white spaces is {my_string}\")"
   ]
  },
  {
   "cell_type": "markdown",
   "id": "348e94f4",
   "metadata": {},
   "source": [
    "### Upper and Lower Cases"
   ]
  },
  {
   "cell_type": "code",
   "execution_count": 18,
   "id": "c22267fd",
   "metadata": {},
   "outputs": [
    {
     "name": "stdout",
     "output_type": "stream",
     "text": [
      "original string: Hello World\n",
      "all uppercase: HELLO WORLD\n",
      "all lowercase: hello world\n"
     ]
    }
   ],
   "source": [
    "print(f\"original string: {my_string}\")\n",
    "print(f\"all uppercase: {my_string.upper()}\")\n",
    "print(f\"all lowercase: {my_string.lower()}\")"
   ]
  },
  {
   "cell_type": "markdown",
   "id": "e1d171aa",
   "metadata": {},
   "source": [
    "## String Indexing"
   ]
  },
  {
   "cell_type": "markdown",
   "id": "9d5c1bb7",
   "metadata": {},
   "source": [
    "### String Slicing"
   ]
  },
  {
   "cell_type": "code",
   "execution_count": null,
   "id": "64007bb1",
   "metadata": {},
   "outputs": [],
   "source": [
    "# slicing\n",
    "# the start index is inclusive, the stop index is exclusive\n",
    "substring = my_string[1:5]\n",
    "print(substring)\n",
    "# slicing with step 2\n",
    "substring1 = my_string[::2]\n",
    "print(substring1)\n",
    "# slicing with negative step = reversing\n",
    "substring2 = my_string[::-1]\n",
    "print(substring2)"
   ]
  },
  {
   "cell_type": "markdown",
   "id": "10656639",
   "metadata": {},
   "source": [
    "### String Detection"
   ]
  },
  {
   "cell_type": "code",
   "execution_count": null,
   "id": "a9a1b22c",
   "metadata": {},
   "outputs": [],
   "source": [
    "greeting = \"Hello\"\n",
    "# finding position of character\n",
    "print(greeting.find(\"o\"))\n",
    "# if does not find a match, will return -1\n",
    "print(greeting.find(\"lol\"))\n",
    "# find the number of matching characters\n",
    "print(greeting.count(\"l\"))\n",
    "# find and replace matching string\n",
    "my_string = \"Hello World\"\n",
    "print(my_string.replace(\"World\", \"Universe\"))"
   ]
  },
  {
   "cell_type": "markdown",
   "id": "c1c27156",
   "metadata": {},
   "source": [
    "## String Formatting"
   ]
  },
  {
   "cell_type": "markdown",
   "id": "1c47dcec",
   "metadata": {},
   "source": [
    "### % Operator"
   ]
  },
  {
   "cell_type": "code",
   "execution_count": 22,
   "id": "2096be8a",
   "metadata": {},
   "outputs": [
    {
     "name": "stdout",
     "output_type": "stream",
     "text": [
      "the variable is Tom\n",
      "the variable is 3\n",
      "the variable is 3.14\n"
     ]
    }
   ],
   "source": [
    "var = \"Tom\"\n",
    "# %s means that is a place holder for a string\n",
    "my_string = \"the variable is %s\" % var\n",
    "print(my_string)\n",
    "\n",
    "var = 3\n",
    "# %d is a place holder for decimal value\n",
    "my_string = \"the variable is %d\" % var\n",
    "print(my_string)\n",
    "\n",
    "var = 3.1415926\n",
    "# %f is a place holder for floating point value (default 6 digits)\n",
    "# .2 before the f means we only want to display 2 digits after the decimal point\n",
    "my_string = \"the variable is %.2f\" % var\n",
    "print(my_string)"
   ]
  },
  {
   "cell_type": "markdown",
   "id": "c08ed7bd",
   "metadata": {},
   "source": [
    "### .format() Method"
   ]
  },
  {
   "cell_type": "code",
   "execution_count": 20,
   "id": "ef85f91b",
   "metadata": {},
   "outputs": [
    {
     "name": "stdout",
     "output_type": "stream",
     "text": [
      "the variable is 3.1415926\n",
      "the variable is 3.14\n",
      "the variable is 3.1415926 and 6\n"
     ]
    }
   ],
   "source": [
    "# .format method\n",
    "var1 = 3.1415926\n",
    "var2 = 6\n",
    "my_string = \"the variable is {}\".format(var1)\n",
    "print(my_string)\n",
    "my_string = \"the variable is {:.2f}\".format(var1)\n",
    "print(my_string)\n",
    "# for multiple variables\n",
    "my_string = \"the variable is {} and {}\".format(var1, var2)\n",
    "print(my_string)"
   ]
  },
  {
   "cell_type": "markdown",
   "id": "a2d57653",
   "metadata": {},
   "source": [
    "### f-string Method"
   ]
  },
  {
   "cell_type": "code",
   "execution_count": 21,
   "id": "b84a842c",
   "metadata": {},
   "outputs": [
    {
     "name": "stdout",
     "output_type": "stream",
     "text": [
      "the variable is 3.1415926 and 12\n"
     ]
    }
   ],
   "source": [
    "# f-strings method\n",
    "var1 = 3.1415926\n",
    "var2 = 6\n",
    "my_string = f\"the variable is {var1} and {var2*2}\"\n",
    "print(my_string)"
   ]
  }
 ],
 "metadata": {
  "kernelspec": {
   "display_name": "Python 3",
   "language": "python",
   "name": "python3"
  },
  "language_info": {
   "codemirror_mode": {
    "name": "ipython",
    "version": 3
   },
   "file_extension": ".py",
   "mimetype": "text/x-python",
   "name": "python",
   "nbconvert_exporter": "python",
   "pygments_lexer": "ipython3",
   "version": "3.8.8"
  }
 },
 "nbformat": 4,
 "nbformat_minor": 5
}
