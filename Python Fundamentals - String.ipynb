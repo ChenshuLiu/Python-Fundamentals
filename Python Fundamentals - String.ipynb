{
 "cells": [
  {
   "cell_type": "markdown",
   "id": "f3901911",
   "metadata": {},
   "source": [
    "# String"
   ]
  },
  {
   "cell_type": "markdown",
   "id": "c845adf4",
   "metadata": {},
   "source": [
    "## String Definition"
   ]
  },
  {
   "cell_type": "markdown",
   "id": "38ccc578",
   "metadata": {},
   "source": [
    "### Quote Recursion\n",
    "Quote recursion is quotes within the string definition quotes"
   ]
  },
  {
   "cell_type": "code",
   "execution_count": null,
   "id": "eee1071d",
   "metadata": {},
   "outputs": [],
   "source": [
    "# quote recursion in string definition\n",
    "# need to use alternating double/single quotes\n",
    "my_string = \"I'm a programmer\"\n",
    "print(my_string)\n",
    "# or use escape sign '\\'\n",
    "my_string = 'I\\'m a programmer'\n",
    "print(my_string)"
   ]
  },
  {
   "cell_type": "markdown",
   "id": "8684cf8f",
   "metadata": {},
   "source": [
    "### Multiline String Definition"
   ]
  },
  {
   "cell_type": "code",
   "execution_count": 2,
   "id": "bd96784b",
   "metadata": {},
   "outputs": [
    {
     "name": "stdout",
     "output_type": "stream",
     "text": [
      "First line\n",
      "Second line\n",
      "Third line\n"
     ]
    }
   ],
   "source": [
    "# multiline is definied through triple quotes\n",
    "my_string = \"\"\"First line\n",
    "Second line\n",
    "Third line\"\"\"\n",
    "print(my_string)"
   ]
  },
  {
   "cell_type": "markdown",
   "id": "364b80a7",
   "metadata": {},
   "source": [
    "### String Concatenation"
   ]
  },
  {
   "cell_type": "code",
   "execution_count": null,
   "id": "0d9820bd",
   "metadata": {},
   "outputs": [],
   "source": [
    "# string concatenation\n",
    "greeting = \"Hello\"\n",
    "name = \"Tom\"\n",
    "sentence = greeting + \" \" + name\n",
    "print(sentence)"
   ]
  },
  {
   "cell_type": "markdown",
   "id": "10f2d3c8",
   "metadata": {},
   "source": [
    "## String Manipulation"
   ]
  },
  {
   "cell_type": "markdown",
   "id": "b4efdff6",
   "metadata": {},
   "source": [
    "### Join and Split"
   ]
  },
  {
   "cell_type": "code",
   "execution_count": 6,
   "id": "fa5c948b",
   "metadata": {},
   "outputs": [
    {
     "name": "stdout",
     "output_type": "stream",
     "text": [
      "how are you doing\n",
      "['how', 'are', 'you', 'doing']\n",
      "how_are_you_doing\n"
     ]
    }
   ],
   "source": [
    "my_string = \"how are you doing\"\n",
    "print(my_string)\n",
    "# split the string into individual strings by word\n",
    "# default separator is space \" \"\n",
    "my_list = my_string.split()\n",
    "print(my_list)\n",
    "# concatenate strings to one\n",
    "new_string = \"_\".join(my_list)\n",
    "print(new_string)"
   ]
  },
  {
   "cell_type": "markdown",
   "id": "d3433f9a",
   "metadata": {},
   "source": [
    "### Bad Practice of Joining"
   ]
  },
  {
   "cell_type": "code",
   "execution_count": 5,
   "id": "bfcecdeb",
   "metadata": {},
   "outputs": [
    {
     "name": "stdout",
     "output_type": "stream",
     "text": [
      "['a', 'a', 'a', 'a', 'a', 'a']\n",
      "aaaaaa\n"
     ]
    }
   ],
   "source": [
    "my_list = [\"a\"] * 6\n",
    "print(my_list)\n",
    "my_string = \"\" # empty string\n",
    "for i in my_list:\n",
    "    my_string += i # BAD CODE!\n",
    "    # string is immutable, which will create a new string each iteration\n",
    "    # takes a lot of memory\n",
    "print(my_string)"
   ]
  },
  {
   "cell_type": "markdown",
   "id": "126e8963",
   "metadata": {},
   "source": [
    "### Strip Method"
   ]
  },
  {
   "cell_type": "code",
   "execution_count": null,
   "id": "6ea125ee",
   "metadata": {},
   "outputs": [],
   "source": [
    "# cleaning strings with white spaces\n",
    "my_string = \"     Hello World     \"\n",
    "print(my_string)\n",
    "my_string = my_string.strip()\n",
    "print(my_string)"
   ]
  },
  {
   "cell_type": "markdown",
   "id": "a7083f71",
   "metadata": {},
   "source": [
    "### Upper and Lower Cases"
   ]
  },
  {
   "cell_type": "code",
   "execution_count": null,
   "id": "5378b24c",
   "metadata": {},
   "outputs": [],
   "source": [
    "# converting all characters to upper/lowercase\n",
    "print(my_string)\n",
    "print(my_string.upper())\n",
    "print(my_string.lower())"
   ]
  },
  {
   "cell_type": "markdown",
   "id": "2e4622dd",
   "metadata": {},
   "source": [
    "## String Indexing"
   ]
  },
  {
   "cell_type": "markdown",
   "id": "2f8352d5",
   "metadata": {},
   "source": [
    "### String Slicing"
   ]
  },
  {
   "cell_type": "code",
   "execution_count": null,
   "id": "6f8abcd5",
   "metadata": {},
   "outputs": [],
   "source": [
    "# slicing\n",
    "# the start index is inclusive, the stop index is exclusive\n",
    "substring = my_string[1:5]\n",
    "print(substring)\n",
    "# slicing with step 2\n",
    "substring1 = my_string[::2]\n",
    "print(substring1)\n",
    "# slicing with negative step = reversing\n",
    "substring2 = my_string[::-1]\n",
    "print(substring2)"
   ]
  },
  {
   "cell_type": "markdown",
   "id": "bd822005",
   "metadata": {},
   "source": [
    "### String Detection"
   ]
  },
  {
   "cell_type": "code",
   "execution_count": null,
   "id": "9427498d",
   "metadata": {},
   "outputs": [],
   "source": [
    "greeting = \"Hello\"\n",
    "# finding position of character\n",
    "print(greeting.find(\"o\"))\n",
    "# if does not find a match, will return -1\n",
    "print(greeting.find(\"lol\"))\n",
    "# find the number of matching characters\n",
    "print(greeting.count(\"l\"))\n",
    "# find and replace matching string\n",
    "my_string = \"Hello World\"\n",
    "print(my_string.replace(\"World\", \"Universe\"))"
   ]
  },
  {
   "cell_type": "markdown",
   "id": "3832b71d",
   "metadata": {},
   "source": [
    "## String Formatting"
   ]
  },
  {
   "cell_type": "markdown",
   "id": "8f355ca8",
   "metadata": {},
   "source": [
    "### % Operator"
   ]
  },
  {
   "cell_type": "code",
   "execution_count": null,
   "id": "965f879e",
   "metadata": {},
   "outputs": [],
   "source": [
    "var = \"Tom\"\n",
    "# %s means that is a place holder for a string\n",
    "my_string = \"the variable is %s\" % var\n",
    "print(my_string)\n",
    "\n",
    "var = 3\n",
    "# %d is a place holder for decimal value\n",
    "my_string = \"the variable is %d\" % var\n",
    "print(my_string)\n",
    "\n",
    "var = 3.1415926\n",
    "# %f is a place holder for floating point value (default 6 digits)\n",
    "# .2 before the f means we only want to display 2 digits after the decimal point\n",
    "my_string = \"the variable is %.2f\" % var\n",
    "print(my_string)"
   ]
  },
  {
   "cell_type": "markdown",
   "id": "9a52c03e",
   "metadata": {},
   "source": [
    "### .format() Method"
   ]
  },
  {
   "cell_type": "code",
   "execution_count": null,
   "id": "7101375d",
   "metadata": {},
   "outputs": [],
   "source": [
    "# .format method\n",
    "var = 3.1415926\n",
    "my_string = \"the variable is {}\".format(var)\n",
    "print(my_string)\n",
    "my_string = \"the variable is {:.2f}\".format(var)\n",
    "print(my_string)\n",
    "# for multiple variables\n",
    "var2 = 6\n",
    "my_string = \"the variable is {} and {}\".format(var, var2)\n",
    "print(my_string)"
   ]
  },
  {
   "cell_type": "markdown",
   "id": "6f06129f",
   "metadata": {},
   "source": [
    "### f-string Method"
   ]
  },
  {
   "cell_type": "code",
   "execution_count": null,
   "id": "a868b2b2",
   "metadata": {},
   "outputs": [],
   "source": [
    "# f-strings method\n",
    "var = 3.1415926\n",
    "var2 = 6\n",
    "my_string = f\"the variable is {var} and {var2*2}\"\n",
    "print(my_string)"
   ]
  }
 ],
 "metadata": {
  "kernelspec": {
   "display_name": "Python 3",
   "language": "python",
   "name": "python3"
  },
  "language_info": {
   "codemirror_mode": {
    "name": "ipython",
    "version": 3
   },
   "file_extension": ".py",
   "mimetype": "text/x-python",
   "name": "python",
   "nbconvert_exporter": "python",
   "pygments_lexer": "ipython3",
   "version": "3.8.8"
  }
 },
 "nbformat": 4,
 "nbformat_minor": 5
}
