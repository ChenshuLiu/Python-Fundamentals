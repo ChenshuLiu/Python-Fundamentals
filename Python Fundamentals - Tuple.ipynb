{
 "cells": [
  {
   "cell_type": "markdown",
   "id": "24b24523",
   "metadata": {},
   "source": [
    "# Tuple\n",
    "Tuple is ordered, **inmmutable**, and allows duplicated elements"
   ]
  },
  {
   "cell_type": "markdown",
   "id": "20ccbb5e",
   "metadata": {},
   "source": [
    "## Tuple Definition"
   ]
  },
  {
   "cell_type": "markdown",
   "id": "c71c04b9",
   "metadata": {},
   "source": [
    "### Tuple Definition"
   ]
  },
  {
   "cell_type": "code",
   "execution_count": 2,
   "id": "83ca5ddc",
   "metadata": {},
   "outputs": [
    {
     "name": "stdout",
     "output_type": "stream",
     "text": [
      "this is mytuple ('Max', '28', 'Boston')\n",
      "the type of tuple1 is <class 'str'>\n",
      "the type of tuple2 is <class 'tuple'>\n",
      "this is tuple3 ('Max', 28, 'Boston')\n"
     ]
    }
   ],
   "source": [
    "# define tuple through parenthesis\n",
    "mytuple = (\"Max\", \"28\", \"Boston\")\n",
    "print(f\"this is mytuple {mytuple}\")\n",
    "\n",
    "# need comma to define a single element tuple\n",
    "tuple1 = (\"Max\")\n",
    "print(f\"the type of tuple1 is {type(tuple1)}\")\n",
    "tuple2 = (\"Max\",)\n",
    "print(f\"the type of tuple2 is {type(tuple2)}\")\n",
    "\n",
    "# tuple can also be created using the tuple function\n",
    "tuple3 = tuple([\"Max\", 28, \"Boston\"])\n",
    "print(f\"this is tuple3 {tuple3}\")"
   ]
  },
  {
   "cell_type": "markdown",
   "id": "b75fdd50",
   "metadata": {},
   "source": [
    "### Tuple Unpacking\n",
    "Unpacking tuples means assigning individual elements of a tuple to multiple variables"
   ]
  },
  {
   "cell_type": "code",
   "execution_count": 4,
   "id": "4955e3fd",
   "metadata": {},
   "outputs": [
    {
     "name": "stdout",
     "output_type": "stream",
     "text": [
      "this is the assignment to name: Max\n",
      "this is the assignment to age: 28\n",
      "this is the assignment to city: Boston\n",
      "this is the assignment to i1: 0\n",
      "this is the assignment to i2: [1, 2, 3]\n",
      "this is the assignment to i3: 4\n"
     ]
    }
   ],
   "source": [
    "# exact match\n",
    "tuple1 = (\"Max\", 28, \"Boston\")\n",
    "name, age, city = tuple1\n",
    "print(f\"this is the assignment to name: {name}\")\n",
    "print(f\"this is the assignment to age: {age}\")\n",
    "print(f\"this is the assignment to city: {city}\")\n",
    "\n",
    "# multiple matches\n",
    "tuple2 = (0, 1, 2, 3, 4)\n",
    "i1, *i2, i3 = tuple2\n",
    "print(f\"this is the assignment to i1: {i1}\")\n",
    "# anything in between i1 and i3\n",
    "print(f\"this is the assignment to i2: {i2}\")\n",
    "print(f\"this is the assignment to i3: {i3}\")"
   ]
  },
  {
   "cell_type": "markdown",
   "id": "a92c88fb",
   "metadata": {},
   "source": [
    "## Tuple Content Extraction"
   ]
  },
  {
   "cell_type": "markdown",
   "id": "88dfde7c",
   "metadata": {},
   "source": [
    "### Tuple Extraction"
   ]
  },
  {
   "cell_type": "code",
   "execution_count": 48,
   "id": "ac4f1f63",
   "metadata": {},
   "outputs": [
    {
     "name": "stdout",
     "output_type": "stream",
     "text": [
      "element1 is 28 with type <class 'int'>\n",
      "element2 is Boston with type <class 'str'>\n",
      "element3 is 28 with type <class 'int'>\n",
      "element4 is reversed due to negative step index ('Boston', 28, 'Max')\n"
     ]
    }
   ],
   "source": [
    "tuple1 = tuple([\"Max\", 28, \"Boston\"])\n",
    "element1 = tuple1[1]\n",
    "print(f\"element1 is {element1} with type {type(element1)}\")\n",
    "\n",
    "element2 = tuple1[2]\n",
    "print(f\"element2 is {element2} with type {type(element2)}\")\n",
    "\n",
    "element3 = tuple1[-2]\n",
    "print(f\"element3 is {element3} with type {type(element3)}\")\n",
    "\n",
    "element4 = tuple1[::-1]\n",
    "print(f\"element4 is reversed due to negative step index {element4}\")"
   ]
  },
  {
   "cell_type": "markdown",
   "id": "0ab6e1f4",
   "metadata": {},
   "source": [
    "### Tuple Slicing"
   ]
  },
  {
   "cell_type": "code",
   "execution_count": 43,
   "id": "8aa91950",
   "metadata": {},
   "outputs": [
    {
     "name": "stdout",
     "output_type": "stream",
     "text": [
      "this is a: (1, 2, 3, 4, 5, 6)\n",
      "this is b: (3, 5)\n",
      "this is c: (6, 5, 4, 3, 2, 1)\n"
     ]
    }
   ],
   "source": [
    "a = (1, 2, 3, 4, 5, 6)\n",
    "print(f\"this is a: {a}\")\n",
    "\n",
    "# selection with stepping\n",
    "b = a[2:5:2]\n",
    "print(f\"this is b: {b}\")\n",
    "\n",
    "# negative stepping (reverse)\n",
    "c = a[::-1]\n",
    "print(f\"this is c: {c}\",)"
   ]
  },
  {
   "cell_type": "markdown",
   "id": "2ecc98e3",
   "metadata": {},
   "source": [
    "### Searching"
   ]
  },
  {
   "cell_type": "code",
   "execution_count": 29,
   "id": "22cb1238",
   "metadata": {},
   "outputs": [
    {
     "name": "stdout",
     "output_type": "stream",
     "text": [
      "the number of a's is 1\n",
      "the number of p's is 2\n",
      "the number of o's is 0\n",
      "the index of first a is 0\n",
      "the index of first p is 1\n"
     ]
    }
   ],
   "source": [
    "# counting number of occurrences of each element\n",
    "tuple1 = (\"a\", \"p\", \"p\", \"l\", \"e\")\n",
    "a = tuple1.count(\"a\")\n",
    "print(f\"the number of a's is {a}\")\n",
    "p = tuple1.count(\"p\")\n",
    "print(f\"the number of p's is {p}\")\n",
    "o = tuple1.count(\"o\")\n",
    "print(f\"the number of o's is {o}\")\n",
    "\n",
    "# find the index of the first occurrence\n",
    "a_index = tuple1.index(\"a\")\n",
    "print(f\"the index of first a is {a_index}\")\n",
    "p_index = tuple1.index(\"p\")\n",
    "print(f\"the index of first p is {p_index}\")"
   ]
  },
  {
   "cell_type": "markdown",
   "id": "7f681d65",
   "metadata": {},
   "source": [
    "## List vs. Tuple"
   ]
  },
  {
   "cell_type": "markdown",
   "id": "cff32b72",
   "metadata": {},
   "source": [
    "### Memory Comparison\n",
    "Both list and tuple are able to store elements, there are some key differences:\n",
    "* Tuple are immutable, meaning we cannot change the elements inside either by adding or dropping\n",
    "* Tuple takes up less memory space than list, even if they are storing the same elements"
   ]
  },
  {
   "cell_type": "code",
   "execution_count": 37,
   "id": "ff18e903",
   "metadata": {},
   "outputs": [
    {
     "name": "stdout",
     "output_type": "stream",
     "text": [
      "the memory size of the list is 96 bytes\n",
      "the memory size of the tuple is 80 bytes\n"
     ]
    }
   ],
   "source": [
    "import sys\n",
    "my_list = [0, 1, 2, \"hello\", True]\n",
    "my_tuple = (0, 1, 2, \"hello\", True)\n",
    "\n",
    "print(f\"the memory size of the list is {sys.getsizeof(my_list)} bytes\")\n",
    "print(f\"the memory size of the tuple is {sys.getsizeof(my_tuple)} bytes\")"
   ]
  },
  {
   "cell_type": "markdown",
   "id": "f5f44fcc",
   "metadata": {},
   "source": [
    "### List Tuple Conversion"
   ]
  },
  {
   "cell_type": "code",
   "execution_count": 39,
   "id": "5a4a73f7",
   "metadata": {},
   "outputs": [
    {
     "name": "stdout",
     "output_type": "stream",
     "text": [
      "the type of tuple1 is <class 'tuple'>\n",
      "the type of list1 is <class 'list'>\n",
      "the type of list2 is <class 'list'>\n",
      "the type of tuple2 is <class 'tuple'>\n"
     ]
    }
   ],
   "source": [
    "# tuple convert to list\n",
    "tuple1 = (\"a\", \"p\", \"p\", \"l\", \"e\")\n",
    "print(f\"the type of tuple1 is {type(tuple1)}\")\n",
    "list1 = list(tuple1)\n",
    "print(f\"the type of list1 is {type(list1)}\")\n",
    "\n",
    "# list convert to tuple\n",
    "list2 = [\"a\", \"p\", \"p\", \"l\", \"e\"]\n",
    "print(f\"the type of list2 is {type(list2)}\")\n",
    "tuple2 = tuple(list2)\n",
    "print(f\"the type of tuple2 is {type(tuple2)}\")"
   ]
  }
 ],
 "metadata": {
  "kernelspec": {
   "display_name": "Python 3",
   "language": "python",
   "name": "python3"
  },
  "language_info": {
   "codemirror_mode": {
    "name": "ipython",
    "version": 3
   },
   "file_extension": ".py",
   "mimetype": "text/x-python",
   "name": "python",
   "nbconvert_exporter": "python",
   "pygments_lexer": "ipython3",
   "version": "3.8.8"
  }
 },
 "nbformat": 4,
 "nbformat_minor": 5
}
