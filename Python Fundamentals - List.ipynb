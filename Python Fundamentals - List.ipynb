{
 "cells": [
  {
   "cell_type": "markdown",
   "id": "fe7a5eab",
   "metadata": {},
   "source": [
    "# List\n",
    "Lists are ordered, mutable, and allow for duplicate elements"
   ]
  },
  {
   "cell_type": "markdown",
   "id": "0129ac29",
   "metadata": {},
   "source": [
    "## List Creation"
   ]
  },
  {
   "cell_type": "markdown",
   "id": "d105cd47",
   "metadata": {},
   "source": [
    "### Repeating List"
   ]
  },
  {
   "cell_type": "code",
   "execution_count": 11,
   "id": "c5754101",
   "metadata": {},
   "outputs": [
    {
     "name": "stdout",
     "output_type": "stream",
     "text": [
      "the resulting list1 is [0, 0, 0]\n",
      "the resulting list2 is [1, 2, 3, 1, 2, 3]\n"
     ]
    }
   ],
   "source": [
    "# creating repeating elements in a list\n",
    "list1 = [0] * 3\n",
    "print(f\"the resulting list1 is {list1}\")\n",
    "\n",
    "list2 = [1, 2, 3] * 2\n",
    "print(f\"the resulting list2 is {list2}\")"
   ]
  },
  {
   "cell_type": "markdown",
   "id": "d72b0780",
   "metadata": {},
   "source": [
    "### List Concatenation"
   ]
  },
  {
   "cell_type": "code",
   "execution_count": 18,
   "id": "80828d5c",
   "metadata": {
    "scrolled": true
   },
   "outputs": [
    {
     "name": "stdout",
     "output_type": "stream",
     "text": [
      "the concatenation result is [0, 0, 0, 1, 2, 3, 1, 2, 3]\n",
      "[0, 0, 0, 'a', 2]\n"
     ]
    }
   ],
   "source": [
    "# concatenate list1 and list2\n",
    "list3 = list1 + list2\n",
    "print(f\"the concatenation result is {list3}\")\n",
    "\n",
    "list4 = [\"a\", 2]\n",
    "list5 = list1+list4\n",
    "print(list5)"
   ]
  },
  {
   "cell_type": "markdown",
   "id": "e13ba9b4",
   "metadata": {},
   "source": [
    "### Creating List in a Range"
   ]
  },
  {
   "cell_type": "code",
   "execution_count": 15,
   "id": "ac1962fb",
   "metadata": {},
   "outputs": [
    {
     "name": "stdout",
     "output_type": "stream",
     "text": [
      "the resulting list is [1, 2, 3, 4, 5]\n"
     ]
    }
   ],
   "source": [
    "# create a list from 1 to 5\n",
    "# the end is exclusive\n",
    "list4 = list(range(1, 6))\n",
    "print(f\"the resulting list is {list4}\")"
   ]
  },
  {
   "cell_type": "markdown",
   "id": "41d50392",
   "metadata": {},
   "source": [
    "## Sorting\n",
    "Sorting is the action of ordering the elements within a list"
   ]
  },
  {
   "cell_type": "markdown",
   "id": "0ba95d97",
   "metadata": {},
   "source": [
    "### In-place Sorting\n",
    "In the case of in-place sorting, the original list will be modified"
   ]
  },
  {
   "cell_type": "code",
   "execution_count": 4,
   "id": "8c9e85d2",
   "metadata": {},
   "outputs": [
    {
     "name": "stdout",
     "output_type": "stream",
     "text": [
      "list1 before sorting is [4, 3, 1, -6, 10]\n",
      "list1 after sorting is [-6, 1, 3, 4, 10]\n",
      "the new_list1 is None\n"
     ]
    }
   ],
   "source": [
    "# sort list **in place** (changing the original list)\n",
    "list1 = [4, 3, 1, -1 -5, 10]\n",
    "print(f\"list1 before sorting is {list1}\")\n",
    "new_list1 = list1.sort()\n",
    "print(f\"list1 after sorting is {list1}\")\n",
    "print(f\"the new_list1 is {new_list1}\")"
   ]
  },
  {
   "cell_type": "markdown",
   "id": "9cbcb0e6",
   "metadata": {},
   "source": [
    "### Sorting to New Object\n",
    "For data security, we can sort the list and assign to a new object <br>\n",
    "This will not overwrite the original list"
   ]
  },
  {
   "cell_type": "code",
   "execution_count": 5,
   "id": "08671dfe",
   "metadata": {},
   "outputs": [
    {
     "name": "stdout",
     "output_type": "stream",
     "text": [
      "list2 before sorting is [4, 3, 1, -6, 10]\n",
      "list2 after sorting is [4, 3, 1, -6, 10]\n",
      "the new_list2 is [-6, 1, 3, 4, 10]\n"
     ]
    }
   ],
   "source": [
    "# sort and assign to new object\n",
    "list2 = [4, 3, 1, -1 -5, 10]\n",
    "print(f\"list2 before sorting is {list2}\")\n",
    "new_list2 = sorted(list2)\n",
    "print(f\"list2 after sorting is {list2}\")\n",
    "print(f\"the new_list2 is {new_list2}\")"
   ]
  },
  {
   "cell_type": "markdown",
   "id": "118c3d99",
   "metadata": {},
   "source": [
    "## List Slicing"
   ]
  },
  {
   "cell_type": "markdown",
   "id": "e339f4d8",
   "metadata": {},
   "source": [
    "### Selecting All"
   ]
  },
  {
   "cell_type": "code",
   "execution_count": 20,
   "id": "d5670be8",
   "metadata": {},
   "outputs": [
    {
     "name": "stdout",
     "output_type": "stream",
     "text": [
      "the result is [1, 2, 3, 4, 5, 6, 7, 8, 9]\n"
     ]
    }
   ],
   "source": [
    "# slicing\n",
    "list1 = [1, 2, 3, 4, 5, 6, 7, 8, 9]\n",
    "\n",
    "# select all\n",
    "a = list1[:]\n",
    "print(f\"the result is {a}\")"
   ]
  },
  {
   "cell_type": "markdown",
   "id": "5c64545c",
   "metadata": {},
   "source": [
    "### Selecting with Indices"
   ]
  },
  {
   "cell_type": "code",
   "execution_count": 23,
   "id": "3b08b72f",
   "metadata": {},
   "outputs": [
    {
     "name": "stdout",
     "output_type": "stream",
     "text": [
      "the result is [2, 3, 4, 5]\n",
      "the result is [2, 3, 4, 5, 6, 7, 8, 9]\n",
      "the result is [1, 2, 3, 4, 5]\n"
     ]
    }
   ],
   "source": [
    "# select by start and end indices\n",
    "b = list1[1:5]\n",
    "print(f\"the result is {b}\")\n",
    "\n",
    "# select only with start index\n",
    "c = list1[1:]\n",
    "print(f\"the result is {c}\")\n",
    "\n",
    "# select only with end index\n",
    "d = list1[:5]\n",
    "print(f\"the result is {d}\")"
   ]
  },
  {
   "cell_type": "markdown",
   "id": "fc6cc09f",
   "metadata": {},
   "source": [
    "### Selecting with Stepping"
   ]
  },
  {
   "cell_type": "code",
   "execution_count": 24,
   "id": "a382cbd6",
   "metadata": {},
   "outputs": [
    {
     "name": "stdout",
     "output_type": "stream",
     "text": [
      "the result is [1, 3, 5, 7, 9]\n"
     ]
    }
   ],
   "source": [
    "# select every two steps (every other one)\n",
    "e = list1[::2] \n",
    "print(f\"the result is {e}\")"
   ]
  },
  {
   "cell_type": "markdown",
   "id": "bde13d7a",
   "metadata": {},
   "source": [
    "## Copying Lists"
   ]
  },
  {
   "cell_type": "markdown",
   "id": "83379925",
   "metadata": {},
   "source": [
    "### Linked Copy"
   ]
  },
  {
   "cell_type": "code",
   "execution_count": 25,
   "id": "42b42c31",
   "metadata": {},
   "outputs": [
    {
     "name": "stdout",
     "output_type": "stream",
     "text": [
      "the original list1 is [4, 3, 1, -6, 10]\n",
      "the original list2 is [4, 3, 1, -6, 10]\n",
      "list1 after modification is [-6, 1, 3, 4, 10]\n",
      "list2 after modification is [-6, 1, 3, 4, 10]\n"
     ]
    }
   ],
   "source": [
    "list1 = [4, 3, 1, -1 -5, 10]\n",
    "list2 = list1\n",
    "print(f\"the original list1 is {list1}\")\n",
    "print(f\"the original list2 is {list2}\")\n",
    "\n",
    "# modify list1 by sorting\n",
    "list1.sort()\n",
    "\n",
    "# both list1 and list2 changes\n",
    "print(f\"list1 after modification is {list1}\")\n",
    "print(f\"list2 after modification is {list2}\")"
   ]
  },
  {
   "cell_type": "markdown",
   "id": "775da1c4",
   "metadata": {},
   "source": [
    "### Unlinked Copy"
   ]
  },
  {
   "cell_type": "code",
   "execution_count": 28,
   "id": "310a2d42",
   "metadata": {},
   "outputs": [
    {
     "name": "stdout",
     "output_type": "stream",
     "text": [
      "list1 before modification is [4, 3, 1, -6, 10]\n",
      "list2 before modification is [4, 3, 1, -6, 10]\n",
      "list3 before modification is [4, 3, 1, -6, 10]\n",
      "list1 after modification is [-6, 1, 3, 4, 10]\n",
      "list2 after modification is [4, 3, 1, -6, 10]\n",
      "list3 after modification is [4, 3, 1, -6, 10]\n"
     ]
    }
   ],
   "source": [
    "list1 = [4, 3, 1, -1 -5, 10]\n",
    "\n",
    "# copy by copy() method\n",
    "list2 = list1.copy()\n",
    "\n",
    "# copy by list function\n",
    "list3 = list(list1)\n",
    "\n",
    "print(f\"list1 before modification is {list1}\")\n",
    "print(f\"list2 before modification is {list2}\")\n",
    "print(f\"list3 before modification is {list3}\")\n",
    "\n",
    "# modify list1 by sorting\n",
    "list1.sort()\n",
    "\n",
    "print(f\"list1 after modification is {list1}\")\n",
    "print(f\"list2 after modification is {list2}\")\n",
    "print(f\"list3 after modification is {list3}\")"
   ]
  },
  {
   "cell_type": "code",
   "execution_count": null,
   "id": "d8adbf5d",
   "metadata": {},
   "outputs": [],
   "source": []
  },
  {
   "cell_type": "code",
   "execution_count": null,
   "id": "b04cb268",
   "metadata": {},
   "outputs": [],
   "source": []
  },
  {
   "cell_type": "code",
   "execution_count": null,
   "id": "93aaec7f",
   "metadata": {},
   "outputs": [],
   "source": []
  },
  {
   "cell_type": "code",
   "execution_count": null,
   "id": "83e7344e",
   "metadata": {},
   "outputs": [],
   "source": []
  }
 ],
 "metadata": {
  "kernelspec": {
   "display_name": "Python 3",
   "language": "python",
   "name": "python3"
  },
  "language_info": {
   "codemirror_mode": {
    "name": "ipython",
    "version": 3
   },
   "file_extension": ".py",
   "mimetype": "text/x-python",
   "name": "python",
   "nbconvert_exporter": "python",
   "pygments_lexer": "ipython3",
   "version": "3.8.8"
  }
 },
 "nbformat": 4,
 "nbformat_minor": 5
}
