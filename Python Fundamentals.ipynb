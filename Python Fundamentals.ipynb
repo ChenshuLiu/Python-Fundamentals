{
 "cells": [
  {
   "cell_type": "markdown",
   "id": "6722cfa6",
   "metadata": {},
   "source": [
    "# Python Fundamentals\n",
    "#### by: Chenshu Liu"
   ]
  },
  {
   "cell_type": "markdown",
   "id": "d5811b6f",
   "metadata": {},
   "source": [
    "## Table of contents\n",
    "1. [Introduction](#Introduction)\n",
    "2. [List](##List)\n",
    "    1. [Sorting List](#Sorting-List)\n",
    "    2. [List Creation](#List-Creating)\n",
    "    3. [List Manipulation](#List-Manipulation)\n",
    "    4. [List Copying](#List-Copying)\n",
    "    5. [Copy Without Simultaneous Change](#Copy-Without-Simultaneous-Change)\n",
    "    6. [List Comprehension](#List-Comprehension)\n",
    "3. [Tuple](#Tuple)\n",
    "    1. [Tuple Definition](#Tuple-Definition)\n",
    "    2. [Tuple Extraction](#Tuple-Extraction)\n",
    "    3. [Tuple Methods](#Tuple-Methods)\n",
    "    4. [List and Tuple Conversion](#List-and-Tuple-Conversion)\n",
    "    5. [Tuple Slicing](#Tuple-Slicing)\n",
    "    5. [Unpacking](#Unpacking)\n",
    "    6. [List vs. Tuple](#List-vs.-Tuple)\n",
    "4. [Dictionary](#Dictionary)\n",
    "    1. [Dictionary Manipulation](#Dictionary-Manipulation)\n",
    "    2. [Checking Element](#Checking-Element)\n",
    "    3. [Copying Dictionary](#Copying-Dictionary)\n",
    "    4. [Merging](#Merging)\n",
    "5. [Set](#Set)\n",
    "    1. [Creating & Modifying Sets](#Creating-&-Modifying-Sets)\n",
    "    2. [Merging Sets](#Merging-Sets)\n",
    "    3. [Inter-sets Operations](#Inter-sets-Operations)\n",
    "    4. [Frozen Set](#Frozen-Set)\n",
    "6. [Strings](#Strings)\n",
    "    1. [String Definition](#String-Definition)\n",
    "    2. [String Indexing](#String-Indexing)\n",
    "    3. [String Detection](#String-Detection)\n",
    "    4. [String Manipulation](#String-Manipulation)\n",
    "    5. [String Formatting](#String-Formatting)\n",
    "7. [Itertools](#Itertools)\n",
    "    1. [Product](#Product)\n",
    "    2. [Permutation](#Permutation)\n",
    "    3. [Combination](#Combination)\n",
    "    4. [Accumulate](#Accumulate)\n",
    "8. [Lambda Functions](#Lambda-Functions)\n",
    "    1. [Lambda Function](#Lambda-Function)\n",
    "    2. [Map Function](#Map-Function)\n",
    "9. [Exceptions and Errors](#Exceptions-and-Errors)\n",
    "    1. [Raise Exception](#Raise-Exception)\n",
    "    2. [Assertion](#Assertion)\n",
    "    3. [Try-exception](#Try-exception)\n",
    "    4. [Define Own Exception](#Define-Own-Exception)"
   ]
  },
  {
   "cell_type": "markdown",
   "id": "51a63cbd",
   "metadata": {},
   "source": [
    "## Introduction\n",
    "This Python tutorial has the following attributed links:\n",
    "* https://www.youtube.com/watch?v=HGOBQPFzWKo&t=1419s\n",
    "* https://www.earthdatascience.org/courses/intro-to-earth-data-science/file-formats/use-text-files/format-text-with-markdown-jupyter-notebook/"
   ]
  },
  {
   "cell_type": "markdown",
   "id": "819c1c86",
   "metadata": {},
   "source": [
    "## List\n",
    "* Lists are ordered, mutable, and allow for duplicate elements"
   ]
  },
  {
   "cell_type": "markdown",
   "id": "799dc36d",
   "metadata": {},
   "source": [
    "### Sorting List"
   ]
  },
  {
   "cell_type": "code",
   "execution_count": 1,
   "id": "01416086",
   "metadata": {},
   "outputs": [
    {
     "name": "stdout",
     "output_type": "stream",
     "text": [
      "[4, 3, 1, -6, 10]\n",
      "[-6, 1, 3, 4, 10]\n",
      "None\n",
      "[4, 3, 1, -6, 10]\n",
      "[4, 3, 1, -6, 10]\n",
      "[-6, 1, 3, 4, 10]\n"
     ]
    }
   ],
   "source": [
    "# sort list **in place** (changing the original list)\n",
    "list1 = [4, 3, 1, -1 -5, 10]\n",
    "print(list1)\n",
    "new_list1 = list1.sort()\n",
    "print(list1)\n",
    "print(new_list1)\n",
    "\n",
    "# sort and assign to new object\n",
    "list2 = [4, 3, 1, -1 -5, 10]\n",
    "print(list2)\n",
    "new_list2 = sorted(list2)\n",
    "print(list2)\n",
    "print(new_list2)"
   ]
  },
  {
   "cell_type": "markdown",
   "id": "4c5c87f4",
   "metadata": {},
   "source": [
    "### List Creation"
   ]
  },
  {
   "cell_type": "code",
   "execution_count": 1,
   "id": "766db1b3",
   "metadata": {},
   "outputs": [
    {
     "name": "stdout",
     "output_type": "stream",
     "text": [
      "[0, 0, 0, 0, 0]\n",
      "[1, 2, 3, 1, 2, 3, 1, 2, 3, 1, 2, 3, 1, 2, 3]\n",
      "[0, 0, 0, 0, 0, 1, 2, 3, 1, 2, 3, 1, 2, 3, 1, 2, 3, 1, 2, 3]\n",
      "[1, 2, 3, 4, 5, 6, 7, 8, 9, 10]\n"
     ]
    }
   ],
   "source": [
    "# creating repeating elements in a list\n",
    "list1 = [0] * 5\n",
    "print(list1)\n",
    "\n",
    "list2 = [1, 2, 3] * 5\n",
    "print(list2)\n",
    "\n",
    "# list concatenation\n",
    "list3 = list1 + list2\n",
    "print(list3)\n",
    "\n",
    "# create a list from 1 to 10\n",
    "list4 = list(range(1, 11))\n",
    "print(list4)"
   ]
  },
  {
   "cell_type": "markdown",
   "id": "97649052",
   "metadata": {},
   "source": [
    "### List Manipulation"
   ]
  },
  {
   "cell_type": "code",
   "execution_count": 3,
   "id": "287bfda9",
   "metadata": {},
   "outputs": [
    {
     "name": "stdout",
     "output_type": "stream",
     "text": [
      "[1, 2, 3, 4, 5, 6, 7, 8, 9]\n",
      "[2, 3, 4, 5]\n",
      "[2, 3, 4, 5, 6, 7, 8, 9]\n",
      "[1, 3, 5, 7, 9]\n"
     ]
    }
   ],
   "source": [
    "# slicing\n",
    "list1 = [1, 2, 3, 4, 5, 6, 7, 8, 9]\n",
    "\n",
    "# select all\n",
    "a = list1[:]\n",
    "print(a)\n",
    "\n",
    "# select by start and end\n",
    "b = list1[1:5]\n",
    "print(b)\n",
    "\n",
    "# select only with start\n",
    "c = list1[1:]\n",
    "print(c)\n",
    "\n",
    "# step\n",
    "d = list1[::2] # select every two steps (every other one)\n",
    "print(d)"
   ]
  },
  {
   "cell_type": "markdown",
   "id": "2f284b06",
   "metadata": {},
   "source": [
    "### List Copying\n",
    "When copying two list, when the first list (the one being copied) is modified, the second list (the one that was copied to) will also be modified"
   ]
  },
  {
   "cell_type": "code",
   "execution_count": 4,
   "id": "4309d8b4",
   "metadata": {},
   "outputs": [
    {
     "name": "stdout",
     "output_type": "stream",
     "text": [
      "[4, 3, 1, -6, 10]\n",
      "[4, 3, 1, -6, 10]\n",
      "[-6, 1, 3, 4, 10]\n",
      "[-6, 1, 3, 4, 10]\n"
     ]
    }
   ],
   "source": [
    "list1 = [4, 3, 1, -1 -5, 10]\n",
    "list2 = list1\n",
    "print(f\"the original list1 is {list1}\")\n",
    "print(f\"the original list2 is {list2}\")\n",
    "\n",
    "# modify list1 by sorting\n",
    "list1.sort()\n",
    "\n",
    "# both list1 and list2 changes\n",
    "print(f\"list1 after modification is {list1}\")\n",
    "print(f\"list2 after modification is {list2}\")\n",
    "\n",
    "# problem with pointers\n",
    "test = [0, 0, 0, 0, 0]\n",
    "b = []\n",
    "for i in range(len(test)):\n",
    "    # change pointer\n",
    "    test = test.copy()\n",
    "    test[i] = test[i] + 1\n",
    "    b.append(test)\n",
    "    print(b)"
   ]
  },
  {
   "cell_type": "markdown",
   "id": "88c0c9b3",
   "metadata": {},
   "source": [
    "### Copy Without Simultaneous Change"
   ]
  },
  {
   "cell_type": "code",
   "execution_count": 5,
   "id": "4bc031d7",
   "metadata": {},
   "outputs": [
    {
     "name": "stdout",
     "output_type": "stream",
     "text": [
      "[4, 3, 1, -6, 10]\n",
      "[4, 3, 1, -6, 10]\n",
      "[4, 3, 1, -6, 10]\n",
      "[4, 3, 1, -6, 10]\n",
      "[-6, 1, 3, 4, 10]\n",
      "[4, 3, 1, -6, 10]\n",
      "[4, 3, 1, -6, 10]\n",
      "[4, 3, 1, -6, 10]\n"
     ]
    }
   ],
   "source": [
    "list1 = [4, 3, 1, -1 -5, 10]\n",
    "\n",
    "# copy by copy() method\n",
    "list2 = list1.copy()\n",
    "\n",
    "# copy by list function\n",
    "list3 = list(list1)\n",
    "\n",
    "# copy by list selection\n",
    "list4 = list1[:]\n",
    "\n",
    "print(list1)\n",
    "print(list2)\n",
    "print(list3)\n",
    "print(list4)\n",
    "\n",
    "# modify list1 by sorting\n",
    "list1.sort()\n",
    "\n",
    "print(list1)\n",
    "print(list2)\n",
    "print(list3)\n",
    "print(list4)"
   ]
  },
  {
   "cell_type": "markdown",
   "id": "b70e991d",
   "metadata": {},
   "source": [
    "### List Comprehension"
   ]
  },
  {
   "cell_type": "code",
   "execution_count": 7,
   "id": "df8044b5",
   "metadata": {},
   "outputs": [
    {
     "name": "stdout",
     "output_type": "stream",
     "text": [
      "[1, 2, 3, 4, 5, 6]\n",
      "[1, 4, 9, 16, 25, 36]\n"
     ]
    }
   ],
   "source": [
    "a = [1, 2, 3, 4, 5, 6]\n",
    "# syntax: [expression for iterator in list]\n",
    "b = [i*i for i in a]\n",
    "print(a)\n",
    "print(b)"
   ]
  },
  {
   "cell_type": "markdown",
   "id": "4577d2e5",
   "metadata": {},
   "source": [
    "## Tuple\n",
    "* Tuple is ordered, **inmmutable**, and allows duplicated elements"
   ]
  },
  {
   "cell_type": "markdown",
   "id": "a163b312",
   "metadata": {},
   "source": [
    "### Tuple Definition"
   ]
  },
  {
   "cell_type": "code",
   "execution_count": 14,
   "id": "ea1de678",
   "metadata": {},
   "outputs": [
    {
     "name": "stdout",
     "output_type": "stream",
     "text": [
      "('Max', '28', 'Boston')\n",
      "<class 'str'>\n",
      "<class 'tuple'>\n",
      "('Max', 28, 'Boston')\n",
      "<class 'int'>\n",
      "<class 'str'>\n",
      "<class 'tuple'>\n"
     ]
    }
   ],
   "source": [
    "mytuple = (\"Max\", \"28\", \"Boston\")\n",
    "print(mytuple)\n",
    "\n",
    "# need comma to define a single element tuple\n",
    "tuple1 = (\"Max\")\n",
    "print(type(tuple1))\n",
    "tuple2 = (\"Max\",)\n",
    "print(type(tuple2))\n",
    "\n",
    "# tuple can also be created using the tuple function\n",
    "tuple3 = tuple([\"Max\", 28, \"Boston\"])\n",
    "print(tuple3)\n",
    "print(type(tuple3))"
   ]
  },
  {
   "cell_type": "markdown",
   "id": "af5cb101",
   "metadata": {},
   "source": [
    "### Tuple Extraction"
   ]
  },
  {
   "cell_type": "code",
   "execution_count": 15,
   "id": "5aa16196",
   "metadata": {},
   "outputs": [
    {
     "name": "stdout",
     "output_type": "stream",
     "text": [
      "28\n",
      "<class 'int'>\n",
      "Boston\n",
      "<class 'str'>\n",
      "28\n",
      "<class 'int'>\n"
     ]
    }
   ],
   "source": [
    "tuple1 = tuple([\"Max\", 28, \"Boston\"])\n",
    "element1 = tuple1[1]\n",
    "print(element1)\n",
    "print(type(element1))\n",
    "\n",
    "element2 = tuple1[2]\n",
    "print(element2)\n",
    "print(type(element2))\n",
    "\n",
    "element3 = tuple1[-2]\n",
    "print(element3)\n",
    "print(type(element3))"
   ]
  },
  {
   "cell_type": "code",
   "execution_count": 16,
   "id": "bf80a65d",
   "metadata": {},
   "outputs": [
    {
     "name": "stdout",
     "output_type": "stream",
     "text": [
      "Yes\n"
     ]
    }
   ],
   "source": [
    "if \"Max\" in tuple1:\n",
    "    print(\"Yes\")"
   ]
  },
  {
   "cell_type": "markdown",
   "id": "f02cb5cc",
   "metadata": {},
   "source": [
    "### Tuple Methods"
   ]
  },
  {
   "cell_type": "code",
   "execution_count": 20,
   "id": "933693cd",
   "metadata": {},
   "outputs": [
    {
     "name": "stdout",
     "output_type": "stream",
     "text": [
      "1\n",
      "2\n",
      "0\n",
      "0\n",
      "1\n"
     ]
    }
   ],
   "source": [
    "# counting number of occurrences of each element\n",
    "tuple1 = (\"a\", \"p\", \"p\", \"l\", \"e\")\n",
    "print(tuple1.count(\"a\"))\n",
    "print(tuple1.count(\"p\"))\n",
    "print(tuple1.count(\"o\"))\n",
    "\n",
    "# find the index of the first occurrence\n",
    "print(tuple1.index(\"a\"))\n",
    "print(tuple1.index(\"p\"))\n",
    "# print(tuple1.index(\"o\")) will give an error"
   ]
  },
  {
   "cell_type": "markdown",
   "id": "a361e095",
   "metadata": {},
   "source": [
    "### List and Tuple Conversion"
   ]
  },
  {
   "cell_type": "code",
   "execution_count": 21,
   "id": "0c5a314f",
   "metadata": {},
   "outputs": [
    {
     "name": "stdout",
     "output_type": "stream",
     "text": [
      "<class 'tuple'>\n",
      "<class 'list'>\n",
      "<class 'list'>\n",
      "<class 'tuple'>\n"
     ]
    }
   ],
   "source": [
    "# tuple convert to list\n",
    "tuple1 = (\"a\", \"p\", \"p\", \"l\", \"e\")\n",
    "print(type(tuple1))\n",
    "list1 = list(tuple1)\n",
    "print(type(list1))\n",
    "\n",
    "# list convert to tuple\n",
    "list2 = [\"a\", \"p\", \"p\", \"l\", \"e\"]\n",
    "print(type(list2))\n",
    "tuple2 = tuple(list2)\n",
    "print(type(tuple2))"
   ]
  },
  {
   "cell_type": "markdown",
   "id": "1cec5e47",
   "metadata": {},
   "source": [
    "### Tuple Slicing"
   ]
  },
  {
   "cell_type": "code",
   "execution_count": 25,
   "id": "a5586f75",
   "metadata": {},
   "outputs": [
    {
     "name": "stdout",
     "output_type": "stream",
     "text": [
      "(1, 2, 3, 4, 5, 6, 7, 8, 9, 10)\n",
      "(3, 4, 5)\n",
      "(1, 3, 5, 7, 9)\n",
      "(10, 9, 8, 7, 6, 5, 4, 3, 2, 1)\n"
     ]
    }
   ],
   "source": [
    "a = (1, 2, 3, 4, 5, 6, 7, 8, 9, 10)\n",
    "print(a)\n",
    "b = a[2:5]\n",
    "print(b)\n",
    "\n",
    "# selection with stepping\n",
    "c = a[::2]\n",
    "print(c)\n",
    "\n",
    "# negative stepping (reverse)\n",
    "d = a[::-1]\n",
    "print(d)"
   ]
  },
  {
   "cell_type": "markdown",
   "id": "957e77f6",
   "metadata": {},
   "source": [
    "### Unpacking"
   ]
  },
  {
   "cell_type": "code",
   "execution_count": 30,
   "id": "d7ae15e6",
   "metadata": {},
   "outputs": [
    {
     "name": "stdout",
     "output_type": "stream",
     "text": [
      "Max\n",
      "28\n",
      "Boston\n",
      "0\n",
      "[1, 2, 3]\n",
      "4\n"
     ]
    }
   ],
   "source": [
    "tuple1 = (\"Max\", 28, \"Boston\")\n",
    "# correspond with tuple elements (must have exact match 3-3)\n",
    "name, age, city = tuple1\n",
    "print(name)\n",
    "print(age)\n",
    "print(city)\n",
    "\n",
    "tuple2 = (0, 1, 2, 3, 4)\n",
    "i1, *i2, i3 = tuple2\n",
    "print(i1)\n",
    "print(i2) # anything in between i1 and i3\n",
    "print(i3)"
   ]
  },
  {
   "cell_type": "markdown",
   "id": "f319ef4f",
   "metadata": {},
   "source": [
    "### List vs. Tuple\n",
    "Both list and tuple are able to store elements, there are some key differences:\n",
    "* Tuple are immutable, meaning we cannot change the elements inside either by adding or dropping\n",
    "* Tuple takes up less memory space than list, even if they are storing the same elements"
   ]
  },
  {
   "cell_type": "code",
   "execution_count": 31,
   "id": "bf057e62",
   "metadata": {},
   "outputs": [
    {
     "name": "stdout",
     "output_type": "stream",
     "text": [
      "96 bytes\n",
      "80 bytes\n"
     ]
    }
   ],
   "source": [
    "import sys\n",
    "my_list = [0, 1, 2, \"hello\", True]\n",
    "my_tuple = (0, 1, 2, \"hello\", True)\n",
    "print(sys.getsizeof(my_list), \"bytes\")\n",
    "print(sys.getsizeof(my_tuple), \"bytes\")"
   ]
  },
  {
   "cell_type": "markdown",
   "id": "4224e265",
   "metadata": {},
   "source": [
    "## Dictionary\n",
    "* Dictionary is key-value pairs, unsorted, and mutable\n",
    "* Tuple can be used a key for dictionary because it is inmutable\n",
    "* List **cannot** be used as key for dictionary because it is mutable"
   ]
  },
  {
   "cell_type": "code",
   "execution_count": 20,
   "id": "adcfad5d",
   "metadata": {},
   "outputs": [
    {
     "name": "stdout",
     "output_type": "stream",
     "text": [
      "{'name': 'Max', 'age': 28, 'city': 'New York'}\n",
      "{'name': 'Max', 'age': 28, 'city': 'New York'}\n",
      "Max\n",
      "dict_values(['Max', 28, 'New York'])\n",
      "dict_keys(['name', 'age', 'city'])\n",
      "dict_items([('name', 'Max'), ('age', 28), ('city', 'New York')])\n"
     ]
    }
   ],
   "source": [
    "# creating dictionary using {}\n",
    "mydict = {\"name\":\"Max\", \"age\": 28, \"city\": \"New York\"}\n",
    "print(mydict)\n",
    "\n",
    "# creating dictionary using dict() function\n",
    "# don't need to use quotes for the keys\n",
    "mydict2 = dict(name = \"Max\", age = 28, city = \"New York\")\n",
    "print(mydict2)\n",
    "\n",
    "# calling elements directly by key\n",
    "value = mydict[\"name\"]\n",
    "print(value)\n",
    "\n",
    "# obtain keys and values\n",
    "print(mydict.values())\n",
    "print(mydict.keys())\n",
    "print(mydict.items())"
   ]
  },
  {
   "cell_type": "markdown",
   "id": "82632c23",
   "metadata": {},
   "source": [
    "### Dictionary Manipulation"
   ]
  },
  {
   "cell_type": "code",
   "execution_count": 6,
   "id": "357aff9b",
   "metadata": {},
   "outputs": [
    {
     "name": "stdout",
     "output_type": "stream",
     "text": [
      "{'name': 'Max', 'age': 28, 'city': 'New York', 'email': 'Max000@gmail.com'}\n",
      "{'name': 'Max', 'age': 28, 'city': 'New York'}\n",
      "{'name': 'Max', 'city': 'New York'}\n"
     ]
    }
   ],
   "source": [
    "# adding new item to dictionary\n",
    "mydict = {\"name\":\"Max\", \"age\": 28, \"city\": \"New York\"}\n",
    "mydict[\"email\"] = \"Max000@gmail.com\"\n",
    "print(mydict)\n",
    "\n",
    "# deleting element from dictionary\n",
    "del mydict[\"email\"]\n",
    "print(mydict)\n",
    "\n",
    "# OR use the pop method\n",
    "mydict.pop(\"age\")\n",
    "print(mydict)"
   ]
  },
  {
   "cell_type": "markdown",
   "id": "e91028e3",
   "metadata": {},
   "source": [
    "### Checking Element"
   ]
  },
  {
   "cell_type": "code",
   "execution_count": 19,
   "id": "90f1816f",
   "metadata": {},
   "outputs": [
    {
     "name": "stdout",
     "output_type": "stream",
     "text": [
      "Max\n",
      "Error\n",
      "name\n",
      "age\n",
      "city\n",
      "Max\n",
      "28\n",
      "New York\n",
      "name\n",
      "age\n",
      "city\n",
      "name\n",
      "age\n",
      "city\n",
      "name Max\n",
      "age 28\n",
      "city New York\n"
     ]
    }
   ],
   "source": [
    "# check by if statement\n",
    "if \"name\" in mydict:\n",
    "    print(mydict[\"name\"])\n",
    "\n",
    "# check by try and except method\n",
    "try:\n",
    "    print(mydict[\"lastname\"])\n",
    "except:\n",
    "    print(\"Error\")\n",
    "    \n",
    "# looping\n",
    "for value in mydict:\n",
    "    print(value)\n",
    "    \n",
    "for value in mydict.values():\n",
    "    print(value)\n",
    "    \n",
    "for key in mydict:\n",
    "    print(key)\n",
    "\n",
    "for key in mydict.keys():\n",
    "    print(key)\n",
    "    \n",
    "for key, value in mydict.items():\n",
    "    print(key, value)"
   ]
  },
  {
   "cell_type": "markdown",
   "id": "a46550e6",
   "metadata": {},
   "source": [
    "### Copying Dictionary\n",
    "* Copying dictionary directly by assigning the original and modifying either one will lead to change in the other\n",
    "* Use the `copy()` method will prevent simultaneous change"
   ]
  },
  {
   "cell_type": "code",
   "execution_count": 23,
   "id": "1dc76a3c",
   "metadata": {},
   "outputs": [
    {
     "name": "stdout",
     "output_type": "stream",
     "text": [
      "{'name': 'Max', 'age': 28, 'city': 'New York'}\n",
      "{'name': 'Max', 'age': 28, 'city': 'New York'}\n",
      "{'name': 'Max', 'age': 28, 'city': 'New York', 'email': 'abc@def.com'}\n",
      "{'name': 'Max', 'age': 28, 'city': 'New York', 'email': 'abc@def.com'}\n",
      "{'name': 'Max', 'age': 28, 'city': 'New York'}\n",
      "{'name': 'Max', 'age': 28, 'city': 'New York'}\n",
      "{'name': 'Max', 'age': 28, 'city': 'New York', 'email': 'abc@def.com'}\n",
      "{'name': 'Max', 'age': 28, 'city': 'New York'}\n"
     ]
    }
   ],
   "source": [
    "# simultaneous change\n",
    "mydict1 = {\"name\":\"Max\", \"age\":28, \"city\":\"New York\"}\n",
    "mydict_cpy1 = mydict1\n",
    "print(mydict1)\n",
    "print(mydict_cpy1)\n",
    "mydict_cpy1[\"email\"] = \"abc@def.com\"\n",
    "print(mydict_cpy1)\n",
    "print(mydict1)\n",
    "\n",
    "# independent\n",
    "mydict2 = {\"name\":\"Max\", \"age\":28, \"city\":\"New York\"}\n",
    "mydict_cpy2 = mydict2.copy()\n",
    "print(mydict2)\n",
    "print(mydict_cpy2)\n",
    "mydict_cpy2[\"email\"] = \"abc@def.com\"\n",
    "print(mydict_cpy2)\n",
    "print(mydict2)"
   ]
  },
  {
   "cell_type": "markdown",
   "id": "d7a4393c",
   "metadata": {},
   "source": [
    "### Merging"
   ]
  },
  {
   "cell_type": "code",
   "execution_count": 27,
   "id": "76d7b572",
   "metadata": {},
   "outputs": [
    {
     "name": "stdout",
     "output_type": "stream",
     "text": [
      "{'name': 'Max', 'age': 28, 'email': 'abc@def.com'}\n",
      "{'name': 'Mary', 'age': 27, 'city': 'New York'}\n",
      "{'name': 'Mary', 'age': 27, 'email': 'abc@def.com', 'city': 'New York'}\n"
     ]
    }
   ],
   "source": [
    "# overwriting merge\n",
    "mydict1 = {\"name\": \"Max\", \"age\": 28, \"email\": \"abc@def.com\"}\n",
    "mydict2 = dict(name = \"Mary\", age = 27, city = \"New York\")\n",
    "print(mydict1)\n",
    "print(mydict2)\n",
    "mydict1.update(mydict2)\n",
    "print(mydict1)"
   ]
  },
  {
   "cell_type": "markdown",
   "id": "b5f98991",
   "metadata": {},
   "source": [
    "## Set"
   ]
  },
  {
   "cell_type": "markdown",
   "id": "8350ad04",
   "metadata": {},
   "source": [
    "Set is unordered, mutable, and does not allow duplicates\n",
    "\n",
    "Sets can be defined using`{}`, same as dictionaries, but it does not require key - value pairs"
   ]
  },
  {
   "cell_type": "markdown",
   "id": "00650f1c",
   "metadata": {},
   "source": [
    "### Creating & Modifying Sets"
   ]
  },
  {
   "cell_type": "code",
   "execution_count": 8,
   "id": "979dfe29",
   "metadata": {},
   "outputs": [
    {
     "name": "stdout",
     "output_type": "stream",
     "text": [
      "{1, 2, 3}\n",
      "{1, 2, 3}\n",
      "{1, 2, 3}\n",
      "{'l', 'e', 'H', 'o'}\n",
      "<class 'dict'>\n",
      "<class 'set'>\n",
      "{1, 2, 3}\n",
      "{1, 2}\n",
      "{1, 2}\n"
     ]
    }
   ],
   "source": [
    "myset = {1, 2, 3}\n",
    "myset1 = {1, 2, 3, 2, 1}\n",
    "myset2 = set([1, 2, 3])\n",
    "myset3 = set(\"Hello\")\n",
    "print(myset)\n",
    "print(myset1)\n",
    "print(myset2)\n",
    "# note that letter \"l\" will only be printed once because set does not allow duplicates\n",
    "print(myset3)\n",
    "\n",
    "# define empty set\n",
    "emptyset = {}\n",
    "print(type(emptyset))\n",
    "# note that the type of emptyset is still dictionary\n",
    "# to define an empty set, we must use the set function\n",
    "emptyset1 = set()\n",
    "print(type(emptyset1))\n",
    "\n",
    "# add elements to empty set\n",
    "emptyset1.add(1)\n",
    "emptyset1.add(2)\n",
    "emptyset1.add(3)\n",
    "print(emptyset1)\n",
    "\n",
    "# remove elements from set (remove method)\n",
    "emptyset1.remove(3)\n",
    "print(emptyset1)\n",
    "# remove elements from set (discard method)\n",
    "# discard method will not raise error when key index is wrong\n",
    "emptyset1.discard(4) # no error like remove method\n",
    "print(emptyset1)"
   ]
  },
  {
   "cell_type": "markdown",
   "id": "2caa25a3",
   "metadata": {},
   "source": [
    "### Inter-sets Operations\n",
    "We can find the union, intersection, difference between sets"
   ]
  },
  {
   "cell_type": "code",
   "execution_count": 9,
   "id": "1b3f42cd",
   "metadata": {},
   "outputs": [
    {
     "name": "stdout",
     "output_type": "stream",
     "text": [
      "{1, 3, 5, 7, 9}\n",
      "{0, 2, 4, 6, 8}\n",
      "{2, 3, 5, 7}\n",
      "{0, 1, 2, 3, 4, 5, 6, 7, 8, 9}\n",
      "set()\n",
      "{4, 5, 6, 7, 8, 9}\n",
      "{10, 11, 12}\n",
      "{4, 5, 6, 7, 8, 9, 10, 11, 12}\n",
      "{1, 2, 3, 4, 5, 6, 7, 8, 9, 10, 11, 12}\n",
      "{1, 2, 3, 10, 11, 12}\n",
      "set()\n",
      "False\n",
      "True\n",
      "False\n",
      "True\n"
     ]
    }
   ],
   "source": [
    "odds = {1, 3, 5, 7, 9}\n",
    "evens = {0, 2, 4, 6, 8}\n",
    "primes = {2, 3, 5, 7}\n",
    "print(odds)\n",
    "print(evens)\n",
    "print(primes)\n",
    "\n",
    "# union (merging without duplicates)\n",
    "u = odds.union(evens)\n",
    "print(u)\n",
    "\n",
    "# intersection\n",
    "i = odds.intersection(evens)\n",
    "print(i) # empty set b/c odds and evens do not have same element(s)\n",
    "\n",
    "setA = {1, 2, 3, 4, 5, 6, 7, 8, 9}\n",
    "setB = {1, 2, 3, 10, 11, 12}\n",
    "# get numbers in setA but not in setB\n",
    "diff = setA.difference(setB)\n",
    "print(diff)\n",
    "# get numbers in setB but not in setA\n",
    "diff2 = setB.difference(setA)\n",
    "print(diff2)\n",
    "# get numbers that are not in both sets\n",
    "diff3 = setB.symmetric_difference(setA)\n",
    "print(diff3)\n",
    "\n",
    "# in place modification\n",
    "setA.update(setB)\n",
    "# update the original setA by adding elements that only exist in setB\n",
    "print(setA)\n",
    "# keeping only the elements in the intersection in place\n",
    "setA.intersection_update(setB)\n",
    "print(setA)\n",
    "# keeping only the difference between the two sets in place\n",
    "setA.difference_update(setB)\n",
    "print(setA)\n",
    "\n",
    "setA = {1, 2, 3, 4, 5, 6, 7, 8, 9}\n",
    "setB = {1, 2, 3}\n",
    "setC = {10}\n",
    "print(setA.issubset(setB))\n",
    "print(setA.issuperset(setB))\n",
    "print(setA.isdisjoint(setB))\n",
    "print(setB.isdisjoint(setC))"
   ]
  },
  {
   "cell_type": "markdown",
   "id": "e6eed0cf",
   "metadata": {},
   "source": [
    "### Frozen Set\n",
    "The elements within a frozen set cannot be changed or modified"
   ]
  },
  {
   "cell_type": "code",
   "execution_count": 12,
   "id": "80ad26da",
   "metadata": {},
   "outputs": [
    {
     "name": "stdout",
     "output_type": "stream",
     "text": [
      "frozenset({1, 2, 3, 4})\n"
     ]
    }
   ],
   "source": [
    "a = frozenset([1, 2, 3, 4])\n",
    "print(a)\n",
    "\n",
    "# if tried to modify elements within, will receive error\n",
    "# a.remove(2)"
   ]
  },
  {
   "cell_type": "markdown",
   "id": "86e70509",
   "metadata": {},
   "source": [
    "## Strings\n",
    "Strings are ordered, immutable, text representations\n",
    "<br/>String objects do not support item assignment"
   ]
  },
  {
   "cell_type": "markdown",
   "id": "3b570348",
   "metadata": {},
   "source": [
    "### String Definition"
   ]
  },
  {
   "cell_type": "code",
   "execution_count": 30,
   "id": "6dbb8c70",
   "metadata": {},
   "outputs": [
    {
     "name": "stdout",
     "output_type": "stream",
     "text": [
      "Hello World\n",
      "I'm a programmer\n",
      "I'm a programmer\n",
      "First line\n",
      "Second line\n",
      "Third line\n",
      "Hello Tom\n",
      "     Hello World     \n",
      "Hello World\n",
      "Hello World\n",
      "HELLO WORLD\n",
      "hello world\n"
     ]
    }
   ],
   "source": [
    "my_string = \"Hello World\"\n",
    "print(my_string)\n",
    "\n",
    "# quote recursion in string definition\n",
    "# need to use alternating double/single quotes\n",
    "my_string = \"I'm a programmer\"\n",
    "print(my_string)\n",
    "# or use escape sign '\\'\n",
    "my_string = 'I\\'m a programmer'\n",
    "print(my_string)\n",
    "\n",
    "# multiline string can be definied through triple quotes\n",
    "my_string = \"\"\"First line\n",
    "Second line\n",
    "Third line\"\"\"\n",
    "print(my_string)\n",
    "\n",
    "# string concatenation\n",
    "greeting = \"Hello\"\n",
    "name = \"Tom\"\n",
    "sentence = greeting + \" \" + name\n",
    "print(sentence)\n",
    "\n",
    "# cleaning strings with white spaces\n",
    "my_string = \"     Hello World     \"\n",
    "print(my_string)\n",
    "my_string = my_string.strip()\n",
    "print(my_string)\n",
    "\n",
    "# converting all characters to upper/lowercase\n",
    "print(my_string)\n",
    "print(my_string.upper())\n",
    "print(my_string.lower())"
   ]
  },
  {
   "cell_type": "markdown",
   "id": "8d58465e",
   "metadata": {},
   "source": [
    "### String Indexing"
   ]
  },
  {
   "cell_type": "code",
   "execution_count": 2,
   "id": "c12aa137",
   "metadata": {},
   "outputs": [
    {
     "name": "stdout",
     "output_type": "stream",
     "text": [
      "H\n",
      "d\n",
      "ello\n",
      "HloWrd\n",
      "dlroW olleH\n",
      "H\n",
      "e\n",
      "l\n",
      "l\n",
      "o\n",
      "4\n",
      "-1\n",
      "2\n",
      "Hello Universe\n"
     ]
    }
   ],
   "source": [
    "my_string = \"Hello World\"\n",
    "# the first character in the string\n",
    "char = my_string[0]\n",
    "print(char)\n",
    "# the last character in the string through negative indexing\n",
    "char = my_string[-1]\n",
    "print(char)\n",
    "\n",
    "# string objects do not support item assignment\n",
    "# assigning new item to a position through indexing will generate error\n",
    "# my_string[0] = 'h'\n",
    "\n",
    "# slicing\n",
    "# the start index is inclusive, the stop index is exclusive\n",
    "substring = my_string[1:5]\n",
    "print(substring)\n",
    "# slicing with step 2\n",
    "substring1 = my_string[::2]\n",
    "print(substring1)\n",
    "# slicing with negative step = reversing\n",
    "substring2 = my_string[::-1]\n",
    "print(substring2)\n",
    "\n",
    "# iteration\n",
    "greeting = \"Hello\"\n",
    "for i in greeting:\n",
    "    print(i)"
   ]
  },
  {
   "cell_type": "markdown",
   "id": "1a711d81",
   "metadata": {},
   "source": [
    "### String Detection"
   ]
  },
  {
   "cell_type": "code",
   "execution_count": 3,
   "id": "8d764944",
   "metadata": {},
   "outputs": [
    {
     "name": "stdout",
     "output_type": "stream",
     "text": [
      "4\n",
      "-1\n",
      "2\n",
      "Hello Universe\n"
     ]
    }
   ],
   "source": [
    "greeting = \"Hello\"\n",
    "# finding position of character\n",
    "print(greeting.find(\"o\"))\n",
    "# if does not find a match, will return -1\n",
    "print(greeting.find(\"lol\"))\n",
    "# find the number of matching characters\n",
    "print(greeting.count(\"l\"))\n",
    "# find and replace matching string\n",
    "my_string = \"Hello World\"\n",
    "print(my_string.replace(\"World\", \"Universe\"))"
   ]
  },
  {
   "cell_type": "markdown",
   "id": "6521d60f",
   "metadata": {},
   "source": [
    "### String Manipulation"
   ]
  },
  {
   "cell_type": "code",
   "execution_count": 10,
   "id": "44446489",
   "metadata": {},
   "outputs": [
    {
     "name": "stdout",
     "output_type": "stream",
     "text": [
      "how are you doing\n",
      "['how', 'are', 'you', 'doing']\n",
      "how_are_you_doing\n",
      "['a', 'a', 'a', 'a', 'a', 'a']\n",
      "aaaaaa\n"
     ]
    }
   ],
   "source": [
    "my_string = \"how are you doing\"\n",
    "print(my_string)\n",
    "# split the string into individual strings by word\n",
    "# default separator is space \" \"\n",
    "my_list = my_string.split()\n",
    "print(my_list)\n",
    "# concatenate strings to one\n",
    "new_string = \"_\".join(my_list)\n",
    "print(new_string)\n",
    "\n",
    "my_list = [\"a\"] * 6\n",
    "print(my_list)\n",
    "my_string = \"\" # empty string\n",
    "for i in my_list:\n",
    "    my_string += i # BAD CODE!\n",
    "    # string is immutable, which will create a new string each iteration\n",
    "    # takes a lot of memory\n",
    "print(my_string)"
   ]
  },
  {
   "cell_type": "markdown",
   "id": "21212641",
   "metadata": {},
   "source": [
    "### String Formatting"
   ]
  },
  {
   "cell_type": "code",
   "execution_count": 18,
   "id": "48c2c39d",
   "metadata": {},
   "outputs": [
    {
     "name": "stdout",
     "output_type": "stream",
     "text": [
      "the variable is Tom\n",
      "the variable is 3\n",
      "the variable is 3.14\n",
      "the variable is 3.1415926\n",
      "the variable is 3.14\n",
      "the variable is 3.1415926 and 6\n",
      "the variable is 3.1415926 and 12\n"
     ]
    }
   ],
   "source": [
    "var = \"Tom\"\n",
    "# %s means that is a place holder for a string\n",
    "my_string = \"the variable is %s\" % var\n",
    "print(my_string)\n",
    "\n",
    "var = 3\n",
    "# %d is a place holder for decimal value\n",
    "my_string = \"the variable is %d\" % var\n",
    "print(my_string)\n",
    "\n",
    "var = 3.1415926\n",
    "# %f is a place holder for floating point value (default 6 digits)\n",
    "# .2 before the f means we only want to display 2 digits after the decimal point\n",
    "my_string = \"the variable is %.2f\" % var\n",
    "print(my_string)\n",
    "\n",
    "# .format method\n",
    "var = 3.1415926\n",
    "my_string = \"the variable is {}\".format(var)\n",
    "print(my_string)\n",
    "my_string = \"the variable is {:.2f}\".format(var)\n",
    "print(my_string)\n",
    "# for multiple variables\n",
    "var2 = 6\n",
    "my_string = \"the variable is {} and {}\".format(var, var2)\n",
    "print(my_string)\n",
    "\n",
    "# f-strings method\n",
    "var = 3.1415926\n",
    "var2 = 6\n",
    "my_string = f\"the variable is {var} and {var2*2}\"\n",
    "print(my_string)"
   ]
  },
  {
   "cell_type": "markdown",
   "id": "b5174a9e",
   "metadata": {},
   "source": [
    "## Itertools"
   ]
  },
  {
   "cell_type": "markdown",
   "id": "abba6220",
   "metadata": {},
   "source": [
    "### Product"
   ]
  },
  {
   "cell_type": "code",
   "execution_count": 19,
   "id": "e2827007",
   "metadata": {},
   "outputs": [
    {
     "name": "stdout",
     "output_type": "stream",
     "text": [
      "[(1, 3), (1, 4), (2, 3), (2, 4)]\n"
     ]
    }
   ],
   "source": [
    "from itertools import product\n",
    "a = [1, 2]\n",
    "b = [3, 4]\n",
    "prod = product(a, b)\n",
    "print(list(prod)) # the cartesian product"
   ]
  },
  {
   "cell_type": "markdown",
   "id": "9482fcdb",
   "metadata": {},
   "source": [
    "### Permutation"
   ]
  },
  {
   "cell_type": "code",
   "execution_count": 20,
   "id": "c5fc59ba",
   "metadata": {},
   "outputs": [
    {
     "name": "stdout",
     "output_type": "stream",
     "text": [
      "[(1, 2, 3), (1, 3, 2), (2, 1, 3), (2, 3, 1), (3, 1, 2), (3, 2, 1)]\n"
     ]
    }
   ],
   "source": [
    "from itertools import permutations\n",
    "# return all possible orderings\n",
    "a = [1, 2, 3]\n",
    "perm = permutations(a, 2)\n",
    "# 2 is the length of the permutated arrays\n",
    "print(list(perm))"
   ]
  },
  {
   "cell_type": "markdown",
   "id": "ce885004",
   "metadata": {},
   "source": [
    "### Combination"
   ]
  },
  {
   "cell_type": "code",
   "execution_count": 23,
   "id": "b44c4ef2",
   "metadata": {},
   "outputs": [
    {
     "name": "stdout",
     "output_type": "stream",
     "text": [
      "[(1, 2), (1, 3), (1, 4), (2, 3), (2, 4), (3, 4)]\n",
      "[(1, 1), (1, 2), (1, 3), (1, 4), (2, 2), (2, 3), (2, 4), (3, 3), (3, 4), (4, 4)]\n"
     ]
    }
   ],
   "source": [
    "from itertools import combinations, combinations_with_replacement\n",
    "a = [1, 2, 3, 4]\n",
    "comb = combinations(a, 2)\n",
    "print(list(comb))\n",
    "\n",
    "# allow case of combining with itself (e.g. (1, 1))\n",
    "comb = combinations_with_replacement(a, 2)\n",
    "print(list(comb))"
   ]
  },
  {
   "cell_type": "markdown",
   "id": "87e92e20",
   "metadata": {},
   "source": [
    "### Accumulate"
   ]
  },
  {
   "cell_type": "code",
   "execution_count": 29,
   "id": "1ddfbb07",
   "metadata": {},
   "outputs": [
    {
     "name": "stdout",
     "output_type": "stream",
     "text": [
      "[1, 2, 3, 4]\n",
      "[1, 3, 6, 10]\n",
      "[1, 2, 3, 4]\n",
      "[1, 2, 6, 24]\n",
      "[1, 2, 5, 3, 4]\n",
      "[1, 2, 5, 5, 5]\n"
     ]
    }
   ],
   "source": [
    "from itertools import accumulate\n",
    "import operator\n",
    "a = [1, 2, 3, 4]\n",
    "acc = accumulate(a)\n",
    "print(a)\n",
    "print(list(acc))\n",
    "\n",
    "acc2 = accumulate(a, func = operator.mul)\n",
    "print(a)\n",
    "print(list(acc2))\n",
    "\n",
    "a = [1, 2, 5, 3, 4]\n",
    "acc3 = accumulate(a, func = max)\n",
    "print(a)\n",
    "# this will return max with stepwise comparison\n",
    "print(list(acc3))"
   ]
  },
  {
   "cell_type": "markdown",
   "id": "525089f9",
   "metadata": {},
   "source": [
    "## Lambda Functions\n",
    "Small, one-line function that is for easy operations"
   ]
  },
  {
   "cell_type": "markdown",
   "id": "07f06f37",
   "metadata": {},
   "source": [
    "### Lambda Function"
   ]
  },
  {
   "cell_type": "code",
   "execution_count": 36,
   "id": "c207eb7d",
   "metadata": {},
   "outputs": [
    {
     "name": "stdout",
     "output_type": "stream",
     "text": [
      "15\n",
      "6\n",
      "[(1, 2), (15, 1), (5, -1), (10, 4)]\n",
      "[(1, 2), (5, -1), (10, 4), (15, 1)]\n",
      "[(5, -1), (15, 1), (1, 2), (10, 4)]\n"
     ]
    }
   ],
   "source": [
    "# syntax:\n",
    "# lambda arguments: expression\n",
    "add10 = lambda x: x + 10\n",
    "# the variable is the function\n",
    "print(add10(5))\n",
    "\n",
    "mult = lambda x, y: x*y\n",
    "print(mult(2, 3))\n",
    "\n",
    "# lambda functions are short, usually the helper function of other operations\n",
    "points2D = [(1, 2), (15, 1), (5, -1), (10, 4)]\n",
    "print(points2D)\n",
    "points2D_sortx = sorted(points2D) # default sort according to first value\n",
    "print(points2D_sortx)\n",
    "# sort according to the second value of the tuples\n",
    "points2D_sorty = sorted(points2D, key = lambda x: x[1])\n",
    "print(points2D_sorty)"
   ]
  },
  {
   "cell_type": "markdown",
   "id": "58b538d4",
   "metadata": {},
   "source": [
    "### Map Function"
   ]
  },
  {
   "cell_type": "code",
   "execution_count": 46,
   "id": "11bfdb97",
   "metadata": {},
   "outputs": [
    {
     "name": "stdout",
     "output_type": "stream",
     "text": [
      "[1, 2, 3, 4, 5]\n",
      "[2, 4, 6, 8, 10]\n"
     ]
    }
   ],
   "source": [
    "a = [1, 2, 3, 4, 5]\n",
    "# similar to the vectorization in R\n",
    "# map applies operation to each element in the list\n",
    "b = map(lambda x: x*2, a)\n",
    "print(a)\n",
    "print(list(b))"
   ]
  },
  {
   "cell_type": "markdown",
   "id": "f3dcc3dc",
   "metadata": {},
   "source": [
    "### Filter Function"
   ]
  },
  {
   "cell_type": "code",
   "execution_count": 48,
   "id": "d959395f",
   "metadata": {},
   "outputs": [
    {
     "name": "stdout",
     "output_type": "stream",
     "text": [
      "[2, 4, 6]\n",
      "[2, 4, 6]\n"
     ]
    }
   ],
   "source": [
    "a = list(range(1, 7))\n",
    "# select all the even numbers\n",
    "b = filter(lambda x: x%2 == 0, a)\n",
    "print(list(b))\n",
    "\n",
    "# achieve the same thing using list comprehension\n",
    "c = [x for x in a if x%2 == 0]\n",
    "print(c)"
   ]
  },
  {
   "cell_type": "markdown",
   "id": "8177a9c9",
   "metadata": {},
   "source": [
    "## Exceptions and Errors\n",
    "\n",
    "Different types of errors include:\n",
    "* Name error\n",
    "* Syntax error\n",
    "* Type error\n",
    "* Module error (does not have the library specified)\n",
    "* File error (does not have the file indicated)\n",
    "* Index error (when indexing with invalid index)"
   ]
  },
  {
   "cell_type": "markdown",
   "id": "ae16c3f0",
   "metadata": {},
   "source": [
    "### Raise Exception"
   ]
  },
  {
   "cell_type": "code",
   "execution_count": 8,
   "id": "712e2985",
   "metadata": {},
   "outputs": [
    {
     "ename": "Exception",
     "evalue": "x should be positive",
     "output_type": "error",
     "traceback": [
      "\u001b[0;31m---------------------------------------------------------------------------\u001b[0m",
      "\u001b[0;31mException\u001b[0m                                 Traceback (most recent call last)",
      "\u001b[0;32m<ipython-input-8-ec2bc7c65be7>\u001b[0m in \u001b[0;36m<module>\u001b[0;34m\u001b[0m\n\u001b[1;32m      2\u001b[0m \u001b[0mx\u001b[0m \u001b[0;34m=\u001b[0m \u001b[0;34m-\u001b[0m\u001b[0;36m5\u001b[0m\u001b[0;34m\u001b[0m\u001b[0;34m\u001b[0m\u001b[0m\n\u001b[1;32m      3\u001b[0m \u001b[0;32mif\u001b[0m \u001b[0mx\u001b[0m \u001b[0;34m<\u001b[0m \u001b[0;36m0\u001b[0m\u001b[0;34m:\u001b[0m\u001b[0;34m\u001b[0m\u001b[0;34m\u001b[0m\u001b[0m\n\u001b[0;32m----> 4\u001b[0;31m     \u001b[0;32mraise\u001b[0m \u001b[0mException\u001b[0m\u001b[0;34m(\u001b[0m\u001b[0;34m\"x should be positive\"\u001b[0m\u001b[0;34m)\u001b[0m\u001b[0;34m\u001b[0m\u001b[0;34m\u001b[0m\u001b[0m\n\u001b[0m\u001b[1;32m      5\u001b[0m \u001b[0;34m\u001b[0m\u001b[0m\n\u001b[1;32m      6\u001b[0m \u001b[0mx\u001b[0m \u001b[0;34m=\u001b[0m \u001b[0;36m5\u001b[0m\u001b[0;34m\u001b[0m\u001b[0;34m\u001b[0m\u001b[0m\n",
      "\u001b[0;31mException\u001b[0m: x should be positive"
     ]
    }
   ],
   "source": [
    "# how to raise an exception\n",
    "x = -5\n",
    "if x < 0:\n",
    "    raise Exception(\"x should be positive\")"
   ]
  },
  {
   "cell_type": "markdown",
   "id": "841c4a98",
   "metadata": {},
   "source": [
    "### Assertion"
   ]
  },
  {
   "cell_type": "code",
   "execution_count": 11,
   "id": "f09e45fb",
   "metadata": {},
   "outputs": [
    {
     "ename": "AssertionError",
     "evalue": "x is not positive",
     "output_type": "error",
     "traceback": [
      "\u001b[0;31m---------------------------------------------------------------------------\u001b[0m",
      "\u001b[0;31mAssertionError\u001b[0m                            Traceback (most recent call last)",
      "\u001b[0;32m<ipython-input-11-13448872d08c>\u001b[0m in \u001b[0;36m<module>\u001b[0;34m\u001b[0m\n\u001b[1;32m      2\u001b[0m \u001b[0;31m# this will raise an assertion error\u001b[0m\u001b[0;34m\u001b[0m\u001b[0;34m\u001b[0m\u001b[0;34m\u001b[0m\u001b[0m\n\u001b[1;32m      3\u001b[0m \u001b[0mx\u001b[0m \u001b[0;34m=\u001b[0m \u001b[0;34m-\u001b[0m\u001b[0;36m5\u001b[0m\u001b[0;34m\u001b[0m\u001b[0;34m\u001b[0m\u001b[0m\n\u001b[0;32m----> 4\u001b[0;31m \u001b[0;32massert\u001b[0m \u001b[0;34m(\u001b[0m\u001b[0mx\u001b[0m \u001b[0;34m>=\u001b[0m \u001b[0;36m0\u001b[0m\u001b[0;34m)\u001b[0m\u001b[0;34m,\u001b[0m \u001b[0;34m'x is not positive'\u001b[0m\u001b[0;34m\u001b[0m\u001b[0;34m\u001b[0m\u001b[0m\n\u001b[0m",
      "\u001b[0;31mAssertionError\u001b[0m: x is not positive"
     ]
    }
   ],
   "source": [
    "# use assertion to raise exception\n",
    "# this will raise an assertion error\n",
    "x = -5\n",
    "assert (x >= 0), 'x is not positive'"
   ]
  },
  {
   "cell_type": "markdown",
   "id": "c49eaec8",
   "metadata": {},
   "source": [
    "### Try-exception"
   ]
  },
  {
   "cell_type": "code",
   "execution_count": 12,
   "id": "5dd58061",
   "metadata": {},
   "outputs": [
    {
     "name": "stdout",
     "output_type": "stream",
     "text": [
      "an error occurred\n"
     ]
    }
   ],
   "source": [
    "try:\n",
    "    a = 5/0\n",
    "except:\n",
    "    print(\"an error occurred\")"
   ]
  },
  {
   "cell_type": "code",
   "execution_count": 13,
   "id": "cccb7e58",
   "metadata": {},
   "outputs": [
    {
     "name": "stdout",
     "output_type": "stream",
     "text": [
      "division by zero\n"
     ]
    }
   ],
   "source": [
    "try:\n",
    "    a = 5/0\n",
    "except Exception as e:\n",
    "    # print the exception message\n",
    "    print(e)"
   ]
  },
  {
   "cell_type": "markdown",
   "id": "704019c2",
   "metadata": {},
   "source": [
    "### Define Own Exception"
   ]
  },
  {
   "cell_type": "code",
   "execution_count": 17,
   "id": "bbc76751",
   "metadata": {},
   "outputs": [
    {
     "name": "stdout",
     "output_type": "stream",
     "text": [
      "value is too small 1\n"
     ]
    }
   ],
   "source": [
    "class ValueTooHighError(Exception):\n",
    "    pass\n",
    "\n",
    "class ValueTooSmallError(Exception):\n",
    "    def __init__(self, message, value):\n",
    "        self.message = message\n",
    "        self.value = value\n",
    "\n",
    "def test_value(x):\n",
    "    if x > 100:\n",
    "        raise ValueTooHighError(\"value is too high\")\n",
    "    if x < 5:\n",
    "        raise ValueTooSmallError(\"value is too small\", x)\n",
    "\n",
    "try:\n",
    "    test_value(1)\n",
    "except ValueTooHighError as e:\n",
    "    print(e)\n",
    "except ValueTooSmallError as e:\n",
    "    print(e.message, e.value)"
   ]
  },
  {
   "cell_type": "markdown",
   "id": "77eafe4c",
   "metadata": {},
   "source": [
    "## Random Numbers"
   ]
  },
  {
   "cell_type": "markdown",
   "id": "041d2077",
   "metadata": {},
   "source": [
    "### The random Package"
   ]
  },
  {
   "cell_type": "code",
   "execution_count": 33,
   "id": "0c735615",
   "metadata": {},
   "outputs": [
    {
     "name": "stdout",
     "output_type": "stream",
     "text": [
      "0.7689563885870707\n",
      "3.398984312782452\n",
      "1\n",
      "7\n",
      "['E', 'C', 'G']\n",
      "['A', 'B', 'C', 'D', 'E', 'F', 'G', 'H']\n",
      "['G', 'A', 'D', 'F', 'E', 'H', 'B', 'C']\n",
      "0.052363598850944326\n",
      "2\n",
      "0.052363598850944326\n",
      "2\n",
      "[0.39211752 0.34317802 0.72904971]\n",
      "[4 5 1 1]\n",
      "[[5 2 8 4]\n",
      " [3 5 8 3]\n",
      " [5 9 1 8]]\n",
      "[[0.69646919 0.28613933 0.22685145]\n",
      " [0.55131477 0.71946897 0.42310646]\n",
      " [0.9807642  0.68482974 0.4809319 ]]\n",
      "[[0.69646919 0.28613933 0.22685145]\n",
      " [0.55131477 0.71946897 0.42310646]\n",
      " [0.9807642  0.68482974 0.4809319 ]]\n"
     ]
    }
   ],
   "source": [
    "# pseudorandom\n",
    "import random\n",
    "\n",
    "a = random.random()\n",
    "print(a)\n",
    "\n",
    "# randomly from uniform distribution\n",
    "a = random.uniform(1, 10)\n",
    "print(a)\n",
    "\n",
    "# random integers\n",
    "# inclusive upper-bound\n",
    "a = random.randint(1, 10)\n",
    "print(a)\n",
    "\n",
    "# exclusive upper-bound\n",
    "# does not include 10\n",
    "a = random.randrange(1, 10)\n",
    "print(a)\n",
    "\n",
    "# select random elements\n",
    "mylist = list(\"ABCDEFGH\")\n",
    "a = random.choices(mylist, k = 3)\n",
    "print(a)\n",
    "\n",
    "# random shuffle\n",
    "# in-place shuffling\n",
    "mylist = list(\"ABCDEFGH\")\n",
    "print(mylist)\n",
    "random.shuffle(mylist)\n",
    "print(mylist)\n",
    "\n",
    "# reproducible randomness\n",
    "# setting the seed to reproduce the random sampling\n",
    "random.seed(123)\n",
    "print(random.random())\n",
    "print(random.randint(1, 10))\n",
    "random.seed(123)\n",
    "print(random.random())\n",
    "print(random.randint(1, 10))"
   ]
  },
  {
   "cell_type": "markdown",
   "id": "c5f696f1",
   "metadata": {},
   "source": [
    "### The Numpy Library"
   ]
  },
  {
   "cell_type": "code",
   "execution_count": null,
   "id": "4506902a",
   "metadata": {},
   "outputs": [],
   "source": [
    "# random number generation using Numpy\n",
    "import numpy as np\n",
    "a = np.random.rand(3)\n",
    "print(a)\n",
    "# the upperbound is exclusive\n",
    "b = np.random.randint(1, 10, 4)\n",
    "print(b)\n",
    "c = np.random.randint(1, 10, (3, 4))\n",
    "print(c)\n",
    "\n",
    "# setting seed using numpy\n",
    "np.random.seed(123)\n",
    "# randomly choose 3 * 3 array\n",
    "print(np.random.rand(3, 3))\n",
    "np.random.seed(123)\n",
    "print(np.random.rand(3, 3))"
   ]
  }
 ],
 "metadata": {
  "kernelspec": {
   "display_name": "Python 3",
   "language": "python",
   "name": "python3"
  },
  "language_info": {
   "codemirror_mode": {
    "name": "ipython",
    "version": 3
   },
   "file_extension": ".py",
   "mimetype": "text/x-python",
   "name": "python",
   "nbconvert_exporter": "python",
   "pygments_lexer": "ipython3",
   "version": "3.8.8"
  }
 },
 "nbformat": 4,
 "nbformat_minor": 5
}
