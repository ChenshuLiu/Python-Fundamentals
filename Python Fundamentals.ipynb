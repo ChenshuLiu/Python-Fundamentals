{
 "cells": [
  {
   "cell_type": "markdown",
   "id": "6722cfa6",
   "metadata": {},
   "source": [
    "# Python Fundamentals\n",
    "#### by: Chenshu Liu"
   ]
  },
  {
   "cell_type": "markdown",
   "id": "d5811b6f",
   "metadata": {},
   "source": [
    "## Table of contents\n",
    "1. [Introduction](#Introduction)\n",
    "2. [List](##List)\n",
    "    1. [Sorting List](#Sorting-List)\n",
    "    2. [List Creation](#List-Creating)\n",
    "    3. [List Manipulation](#List-Manipulation)\n",
    "    4. [List Copying](#List-Copying)\n",
    "    5. [Copy Without Simultaneous Change](#Copy-Without-Simultaneous-Change)\n",
    "    6. [List Comprehension](#List-Comprehension)\n",
    "3. [Tuple](#Tuple)\n",
    "    1. [Tuple Definition](#Tuple-Definition)\n",
    "    2. [Tuple Extraction](#Tuple-Extraction)\n",
    "    3. [Tuple Methods](#Tuple-Methods)\n",
    "    4. [List and Tuple Conversion](#List-and-Tuple-Conversion)\n",
    "    5. [Tuple Slicing](#Tuple-Slicing)\n",
    "    5. [Unpacking](#Unpacking)\n",
    "    6. [List vs. Tuple](#List-vs.-Tuple)\n",
    "4. [Dictionary](#Dictionary)\n",
    "    1. [Dictionary Manipulation](#Dictionary-Manipulation)\n",
    "    2. [Checking Element](#Checking-Element)\n",
    "    3. [Copying Dictionary](#Copying-Dictionary)\n",
    "    4. [Merging](#Merging)"
   ]
  },
  {
   "cell_type": "markdown",
   "id": "51a63cbd",
   "metadata": {},
   "source": [
    "## Introduction\n",
    "This Python tutorial has the following attributed links:\n",
    "* https://www.youtube.com/watch?v=HGOBQPFzWKo&t=1419s\n",
    "* https://www.earthdatascience.org/courses/intro-to-earth-data-science/file-formats/use-text-files/format-text-with-markdown-jupyter-notebook/"
   ]
  },
  {
   "cell_type": "markdown",
   "id": "819c1c86",
   "metadata": {},
   "source": [
    "## List\n",
    "* Lists are ordered, mutable, and allow for duplicate elements"
   ]
  },
  {
   "cell_type": "markdown",
   "id": "799dc36d",
   "metadata": {},
   "source": [
    "### Sorting List"
   ]
  },
  {
   "cell_type": "code",
   "execution_count": 1,
   "id": "01416086",
   "metadata": {},
   "outputs": [
    {
     "name": "stdout",
     "output_type": "stream",
     "text": [
      "[4, 3, 1, -6, 10]\n",
      "[-6, 1, 3, 4, 10]\n",
      "None\n",
      "[4, 3, 1, -6, 10]\n",
      "[4, 3, 1, -6, 10]\n",
      "[-6, 1, 3, 4, 10]\n"
     ]
    }
   ],
   "source": [
    "# sort list **in place** (changing the original list)\n",
    "list1 = [4, 3, 1, -1 -5, 10]\n",
    "print(list1)\n",
    "new_list1 = list1.sort()\n",
    "print(list1)\n",
    "print(new_list1)\n",
    "\n",
    "# sort and assign to new object\n",
    "list2 = [4, 3, 1, -1 -5, 10]\n",
    "print(list2)\n",
    "new_list2 = sorted(list2)\n",
    "print(list2)\n",
    "print(new_list2)"
   ]
  },
  {
   "cell_type": "markdown",
   "id": "4c5c87f4",
   "metadata": {},
   "source": [
    "### List Creation"
   ]
  },
  {
   "cell_type": "code",
   "execution_count": 2,
   "id": "766db1b3",
   "metadata": {},
   "outputs": [
    {
     "name": "stdout",
     "output_type": "stream",
     "text": [
      "[0, 0, 0, 0, 0]\n",
      "[1, 2, 3, 1, 2, 3, 1, 2, 3, 1, 2, 3, 1, 2, 3]\n",
      "[0, 0, 0, 0, 0, 1, 2, 3, 1, 2, 3, 1, 2, 3, 1, 2, 3, 1, 2, 3]\n"
     ]
    }
   ],
   "source": [
    "# creating repeating elements in a list\n",
    "list1 = [0] * 5\n",
    "print(list1)\n",
    "\n",
    "list2 = [1, 2, 3] * 5\n",
    "print(list2)\n",
    "\n",
    "# list concatenation\n",
    "list3 = list1 + list2\n",
    "print(list3)"
   ]
  },
  {
   "cell_type": "markdown",
   "id": "97649052",
   "metadata": {},
   "source": [
    "### List Manipulation"
   ]
  },
  {
   "cell_type": "code",
   "execution_count": 3,
   "id": "287bfda9",
   "metadata": {},
   "outputs": [
    {
     "name": "stdout",
     "output_type": "stream",
     "text": [
      "[1, 2, 3, 4, 5, 6, 7, 8, 9]\n",
      "[2, 3, 4, 5]\n",
      "[2, 3, 4, 5, 6, 7, 8, 9]\n",
      "[1, 3, 5, 7, 9]\n"
     ]
    }
   ],
   "source": [
    "# slicing\n",
    "list1 = [1, 2, 3, 4, 5, 6, 7, 8, 9]\n",
    "\n",
    "# select all\n",
    "a = list1[:]\n",
    "print(a)\n",
    "\n",
    "# select by start and end\n",
    "b = list1[1:5]\n",
    "print(b)\n",
    "\n",
    "# select only with start\n",
    "c = list1[1:]\n",
    "print(c)\n",
    "\n",
    "# step\n",
    "d = list1[::2] # select every two steps (every other one)\n",
    "print(d)"
   ]
  },
  {
   "cell_type": "markdown",
   "id": "2f284b06",
   "metadata": {},
   "source": [
    "### List Copying\n",
    "When copying two list, when the first list (the one being copied) is modified, the second list (the one that was copied to) will also be modified"
   ]
  },
  {
   "cell_type": "code",
   "execution_count": 4,
   "id": "4309d8b4",
   "metadata": {},
   "outputs": [
    {
     "name": "stdout",
     "output_type": "stream",
     "text": [
      "[4, 3, 1, -6, 10]\n",
      "[4, 3, 1, -6, 10]\n",
      "[-6, 1, 3, 4, 10]\n",
      "[-6, 1, 3, 4, 10]\n"
     ]
    }
   ],
   "source": [
    "list1 = [4, 3, 1, -1 -5, 10]\n",
    "list2 = list1\n",
    "print(list1)\n",
    "print(list2)\n",
    "\n",
    "# modify list1 by sorting\n",
    "list1.sort()\n",
    "\n",
    "# both list1 and list2 changes\n",
    "print(list1)\n",
    "print(list2)\n",
    "\n",
    "# problem with pointers\n",
    "test = [0, 0, 0, 0, 0]\n",
    "b = []\n",
    "for i in range(len(test)):\n",
    "    # change pointer\n",
    "    test = test.copy()\n",
    "    test[i] = test[i] + 1\n",
    "    b.append(test)\n",
    "    print(b)"
   ]
  },
  {
   "cell_type": "markdown",
   "id": "88c0c9b3",
   "metadata": {},
   "source": [
    "### Copy Without Simultaneous Change"
   ]
  },
  {
   "cell_type": "code",
   "execution_count": 5,
   "id": "4bc031d7",
   "metadata": {},
   "outputs": [
    {
     "name": "stdout",
     "output_type": "stream",
     "text": [
      "[4, 3, 1, -6, 10]\n",
      "[4, 3, 1, -6, 10]\n",
      "[4, 3, 1, -6, 10]\n",
      "[4, 3, 1, -6, 10]\n",
      "[-6, 1, 3, 4, 10]\n",
      "[4, 3, 1, -6, 10]\n",
      "[4, 3, 1, -6, 10]\n",
      "[4, 3, 1, -6, 10]\n"
     ]
    }
   ],
   "source": [
    "list1 = [4, 3, 1, -1 -5, 10]\n",
    "\n",
    "# copy by copy() method\n",
    "list2 = list1.copy()\n",
    "\n",
    "# copy by list function\n",
    "list3 = list(list1)\n",
    "\n",
    "# copy by list selection\n",
    "list4 = list1[:]\n",
    "\n",
    "print(list1)\n",
    "print(list2)\n",
    "print(list3)\n",
    "print(list4)\n",
    "\n",
    "# modify list1 by sorting\n",
    "list1.sort()\n",
    "\n",
    "print(list1)\n",
    "print(list2)\n",
    "print(list3)\n",
    "print(list4)"
   ]
  },
  {
   "cell_type": "markdown",
   "id": "b70e991d",
   "metadata": {},
   "source": [
    "### List Comprehension"
   ]
  },
  {
   "cell_type": "code",
   "execution_count": 7,
   "id": "df8044b5",
   "metadata": {},
   "outputs": [
    {
     "name": "stdout",
     "output_type": "stream",
     "text": [
      "[1, 2, 3, 4, 5, 6]\n",
      "[1, 4, 9, 16, 25, 36]\n"
     ]
    }
   ],
   "source": [
    "a = [1, 2, 3, 4, 5, 6]\n",
    "# syntax: [expression for iterator in list]\n",
    "b = [i*i for i in a]\n",
    "print(a)\n",
    "print(b)"
   ]
  },
  {
   "cell_type": "markdown",
   "id": "4577d2e5",
   "metadata": {},
   "source": [
    "## Tuple\n",
    "* Tuple is ordered, **inmmutable**, and allows duplicated elements"
   ]
  },
  {
   "cell_type": "markdown",
   "id": "a163b312",
   "metadata": {},
   "source": [
    "### Tuple Definition"
   ]
  },
  {
   "cell_type": "code",
   "execution_count": 14,
   "id": "ea1de678",
   "metadata": {},
   "outputs": [
    {
     "name": "stdout",
     "output_type": "stream",
     "text": [
      "('Max', '28', 'Boston')\n",
      "<class 'str'>\n",
      "<class 'tuple'>\n",
      "('Max', 28, 'Boston')\n",
      "<class 'int'>\n",
      "<class 'str'>\n",
      "<class 'tuple'>\n"
     ]
    }
   ],
   "source": [
    "mytuple = (\"Max\", \"28\", \"Boston\")\n",
    "print(mytuple)\n",
    "\n",
    "# need comma to define a single element tuple\n",
    "tuple1 = (\"Max\")\n",
    "print(type(tuple1))\n",
    "tuple2 = (\"Max\",)\n",
    "print(type(tuple2))\n",
    "\n",
    "# tuple can also be created using the tuple function\n",
    "tuple3 = tuple([\"Max\", 28, \"Boston\"])\n",
    "print(tuple3)\n",
    "print(type(tuple3))"
   ]
  },
  {
   "cell_type": "markdown",
   "id": "af5cb101",
   "metadata": {},
   "source": [
    "### Tuple Extraction"
   ]
  },
  {
   "cell_type": "code",
   "execution_count": 15,
   "id": "5aa16196",
   "metadata": {},
   "outputs": [
    {
     "name": "stdout",
     "output_type": "stream",
     "text": [
      "28\n",
      "<class 'int'>\n",
      "Boston\n",
      "<class 'str'>\n",
      "28\n",
      "<class 'int'>\n"
     ]
    }
   ],
   "source": [
    "tuple1 = tuple([\"Max\", 28, \"Boston\"])\n",
    "element1 = tuple1[1]\n",
    "print(element1)\n",
    "print(type(element1))\n",
    "\n",
    "element2 = tuple1[2]\n",
    "print(element2)\n",
    "print(type(element2))\n",
    "\n",
    "element3 = tuple1[-2]\n",
    "print(element3)\n",
    "print(type(element3))"
   ]
  },
  {
   "cell_type": "code",
   "execution_count": 16,
   "id": "bf80a65d",
   "metadata": {},
   "outputs": [
    {
     "name": "stdout",
     "output_type": "stream",
     "text": [
      "Yes\n"
     ]
    }
   ],
   "source": [
    "if \"Max\" in tuple1:\n",
    "    print(\"Yes\")"
   ]
  },
  {
   "cell_type": "markdown",
   "id": "f02cb5cc",
   "metadata": {},
   "source": [
    "### Tuple Methods"
   ]
  },
  {
   "cell_type": "code",
   "execution_count": 20,
   "id": "933693cd",
   "metadata": {},
   "outputs": [
    {
     "name": "stdout",
     "output_type": "stream",
     "text": [
      "1\n",
      "2\n",
      "0\n",
      "0\n",
      "1\n"
     ]
    }
   ],
   "source": [
    "# counting number of occurrences of each element\n",
    "tuple1 = (\"a\", \"p\", \"p\", \"l\", \"e\")\n",
    "print(tuple1.count(\"a\"))\n",
    "print(tuple1.count(\"p\"))\n",
    "print(tuple1.count(\"o\"))\n",
    "\n",
    "# find the index of the first occurrence\n",
    "print(tuple1.index(\"a\"))\n",
    "print(tuple1.index(\"p\"))\n",
    "# print(tuple1.index(\"o\")) will give an error"
   ]
  },
  {
   "cell_type": "markdown",
   "id": "a361e095",
   "metadata": {},
   "source": [
    "### List and Tuple Conversion"
   ]
  },
  {
   "cell_type": "code",
   "execution_count": 21,
   "id": "0c5a314f",
   "metadata": {},
   "outputs": [
    {
     "name": "stdout",
     "output_type": "stream",
     "text": [
      "<class 'tuple'>\n",
      "<class 'list'>\n",
      "<class 'list'>\n",
      "<class 'tuple'>\n"
     ]
    }
   ],
   "source": [
    "# tuple convert to list\n",
    "tuple1 = (\"a\", \"p\", \"p\", \"l\", \"e\")\n",
    "print(type(tuple1))\n",
    "list1 = list(tuple1)\n",
    "print(type(list1))\n",
    "\n",
    "# list convert to tuple\n",
    "list2 = [\"a\", \"p\", \"p\", \"l\", \"e\"]\n",
    "print(type(list2))\n",
    "tuple2 = tuple(list2)\n",
    "print(type(tuple2))"
   ]
  },
  {
   "cell_type": "markdown",
   "id": "1cec5e47",
   "metadata": {},
   "source": [
    "### Tuple Slicing"
   ]
  },
  {
   "cell_type": "code",
   "execution_count": 25,
   "id": "a5586f75",
   "metadata": {},
   "outputs": [
    {
     "name": "stdout",
     "output_type": "stream",
     "text": [
      "(1, 2, 3, 4, 5, 6, 7, 8, 9, 10)\n",
      "(3, 4, 5)\n",
      "(1, 3, 5, 7, 9)\n",
      "(10, 9, 8, 7, 6, 5, 4, 3, 2, 1)\n"
     ]
    }
   ],
   "source": [
    "a = (1, 2, 3, 4, 5, 6, 7, 8, 9, 10)\n",
    "print(a)\n",
    "b = a[2:5]\n",
    "print(b)\n",
    "\n",
    "# selection with stepping\n",
    "c = a[::2]\n",
    "print(c)\n",
    "\n",
    "# negative stepping (reverse)\n",
    "d = a[::-1]\n",
    "print(d)"
   ]
  },
  {
   "cell_type": "markdown",
   "id": "957e77f6",
   "metadata": {},
   "source": [
    "### Unpacking"
   ]
  },
  {
   "cell_type": "code",
   "execution_count": 30,
   "id": "d7ae15e6",
   "metadata": {},
   "outputs": [
    {
     "name": "stdout",
     "output_type": "stream",
     "text": [
      "Max\n",
      "28\n",
      "Boston\n",
      "0\n",
      "[1, 2, 3]\n",
      "4\n"
     ]
    }
   ],
   "source": [
    "tuple1 = (\"Max\", 28, \"Boston\")\n",
    "# correspond with tuple elements (must have exact match 3-3)\n",
    "name, age, city = tuple1\n",
    "print(name)\n",
    "print(age)\n",
    "print(city)\n",
    "\n",
    "tuple2 = (0, 1, 2, 3, 4)\n",
    "i1, *i2, i3 = tuple2\n",
    "print(i1)\n",
    "print(i2) # anything in between i1 and i3\n",
    "print(i3)"
   ]
  },
  {
   "cell_type": "markdown",
   "id": "f319ef4f",
   "metadata": {},
   "source": [
    "### List vs. Tuple\n",
    "Both list and tuple are able to store elements, there are some key differences:\n",
    "* Tuple are immutable, meaning we cannot change the elements inside either by adding or dropping\n",
    "* Tuple takes up less memory space than list, even if they are storing the same elements"
   ]
  },
  {
   "cell_type": "code",
   "execution_count": 31,
   "id": "bf057e62",
   "metadata": {},
   "outputs": [
    {
     "name": "stdout",
     "output_type": "stream",
     "text": [
      "96 bytes\n",
      "80 bytes\n"
     ]
    }
   ],
   "source": [
    "import sys\n",
    "my_list = [0, 1, 2, \"hello\", True]\n",
    "my_tuple = (0, 1, 2, \"hello\", True)\n",
    "print(sys.getsizeof(my_list), \"bytes\")\n",
    "print(sys.getsizeof(my_tuple), \"bytes\")"
   ]
  },
  {
   "cell_type": "markdown",
   "id": "4224e265",
   "metadata": {},
   "source": [
    "## Dictionary\n",
    "* Dictionary is key-value pairs, unsorted, and mutable\n",
    "* Tuple can be used a key for dictionary because it is inmutable\n",
    "* List **cannot** be used as key for dictionary because it is mutable"
   ]
  },
  {
   "cell_type": "code",
   "execution_count": 20,
   "id": "adcfad5d",
   "metadata": {},
   "outputs": [
    {
     "name": "stdout",
     "output_type": "stream",
     "text": [
      "{'name': 'Max', 'age': 28, 'city': 'New York'}\n",
      "{'name': 'Max', 'age': 28, 'city': 'New York'}\n",
      "Max\n",
      "dict_values(['Max', 28, 'New York'])\n",
      "dict_keys(['name', 'age', 'city'])\n",
      "dict_items([('name', 'Max'), ('age', 28), ('city', 'New York')])\n"
     ]
    }
   ],
   "source": [
    "# creating dictionary using {}\n",
    "mydict = {\"name\":\"Max\", \"age\": 28, \"city\": \"New York\"}\n",
    "print(mydict)\n",
    "\n",
    "# creating dictionary using dict() function\n",
    "# don't need to use quotes for the keys\n",
    "mydict2 = dict(name = \"Max\", age = 28, city = \"New York\")\n",
    "print(mydict2)\n",
    "\n",
    "# calling elements directly by key\n",
    "value = mydict[\"name\"]\n",
    "print(value)\n",
    "\n",
    "# obtain keys and values\n",
    "print(mydict.values())\n",
    "print(mydict.keys())\n",
    "print(mydict.items())"
   ]
  },
  {
   "cell_type": "markdown",
   "id": "82632c23",
   "metadata": {},
   "source": [
    "### Dictionary Manipulation"
   ]
  },
  {
   "cell_type": "code",
   "execution_count": 6,
   "id": "357aff9b",
   "metadata": {},
   "outputs": [
    {
     "name": "stdout",
     "output_type": "stream",
     "text": [
      "{'name': 'Max', 'age': 28, 'city': 'New York', 'email': 'Max000@gmail.com'}\n",
      "{'name': 'Max', 'age': 28, 'city': 'New York'}\n",
      "{'name': 'Max', 'city': 'New York'}\n"
     ]
    }
   ],
   "source": [
    "# adding new item to dictionary\n",
    "mydict = {\"name\":\"Max\", \"age\": 28, \"city\": \"New York\"}\n",
    "mydict[\"email\"] = \"Max000@gmail.com\"\n",
    "print(mydict)\n",
    "\n",
    "# deleting element from dictionary\n",
    "del mydict[\"email\"]\n",
    "print(mydict)\n",
    "\n",
    "# OR use the pop method\n",
    "mydict.pop(\"age\")\n",
    "print(mydict)"
   ]
  },
  {
   "cell_type": "markdown",
   "id": "e91028e3",
   "metadata": {},
   "source": [
    "### Checking Element"
   ]
  },
  {
   "cell_type": "code",
   "execution_count": 19,
   "id": "90f1816f",
   "metadata": {},
   "outputs": [
    {
     "name": "stdout",
     "output_type": "stream",
     "text": [
      "Max\n",
      "Error\n",
      "name\n",
      "age\n",
      "city\n",
      "Max\n",
      "28\n",
      "New York\n",
      "name\n",
      "age\n",
      "city\n",
      "name\n",
      "age\n",
      "city\n",
      "name Max\n",
      "age 28\n",
      "city New York\n"
     ]
    }
   ],
   "source": [
    "# check by if statement\n",
    "if \"name\" in mydict:\n",
    "    print(mydict[\"name\"])\n",
    "\n",
    "# check by try and except method\n",
    "try:\n",
    "    print(mydict[\"lastname\"])\n",
    "except:\n",
    "    print(\"Error\")\n",
    "    \n",
    "# looping\n",
    "for value in mydict:\n",
    "    print(value)\n",
    "    \n",
    "for value in mydict.values():\n",
    "    print(value)\n",
    "    \n",
    "for key in mydict:\n",
    "    print(key)\n",
    "\n",
    "for key in mydict.keys():\n",
    "    print(key)\n",
    "    \n",
    "for key, value in mydict.items():\n",
    "    print(key, value)"
   ]
  },
  {
   "cell_type": "markdown",
   "id": "a46550e6",
   "metadata": {},
   "source": [
    "### Copying Dictionary\n",
    "* Copying dictionary directly by assigning the original and modifying either one will lead to change in the other\n",
    "* Use the `copy()` method will prevent simultaneous change"
   ]
  },
  {
   "cell_type": "code",
   "execution_count": 23,
   "id": "1dc76a3c",
   "metadata": {},
   "outputs": [
    {
     "name": "stdout",
     "output_type": "stream",
     "text": [
      "{'name': 'Max', 'age': 28, 'city': 'New York'}\n",
      "{'name': 'Max', 'age': 28, 'city': 'New York'}\n",
      "{'name': 'Max', 'age': 28, 'city': 'New York', 'email': 'abc@def.com'}\n",
      "{'name': 'Max', 'age': 28, 'city': 'New York', 'email': 'abc@def.com'}\n",
      "{'name': 'Max', 'age': 28, 'city': 'New York'}\n",
      "{'name': 'Max', 'age': 28, 'city': 'New York'}\n",
      "{'name': 'Max', 'age': 28, 'city': 'New York', 'email': 'abc@def.com'}\n",
      "{'name': 'Max', 'age': 28, 'city': 'New York'}\n"
     ]
    }
   ],
   "source": [
    "# simultaneous change\n",
    "mydict1 = {\"name\":\"Max\", \"age\":28, \"city\":\"New York\"}\n",
    "mydict_cpy1 = mydict1\n",
    "print(mydict1)\n",
    "print(mydict_cpy1)\n",
    "mydict_cpy1[\"email\"] = \"abc@def.com\"\n",
    "print(mydict_cpy1)\n",
    "print(mydict1)\n",
    "\n",
    "# independent\n",
    "mydict2 = {\"name\":\"Max\", \"age\":28, \"city\":\"New York\"}\n",
    "mydict_cpy2 = mydict2.copy()\n",
    "print(mydict2)\n",
    "print(mydict_cpy2)\n",
    "mydict_cpy2[\"email\"] = \"abc@def.com\"\n",
    "print(mydict_cpy2)\n",
    "print(mydict2)"
   ]
  },
  {
   "cell_type": "markdown",
   "id": "d7a4393c",
   "metadata": {},
   "source": [
    "### Merging"
   ]
  },
  {
   "cell_type": "code",
   "execution_count": 27,
   "id": "76d7b572",
   "metadata": {},
   "outputs": [
    {
     "name": "stdout",
     "output_type": "stream",
     "text": [
      "{'name': 'Max', 'age': 28, 'email': 'abc@def.com'}\n",
      "{'name': 'Mary', 'age': 27, 'city': 'New York'}\n",
      "{'name': 'Mary', 'age': 27, 'email': 'abc@def.com', 'city': 'New York'}\n"
     ]
    }
   ],
   "source": [
    "# overwriting merge\n",
    "mydict1 = {\"name\": \"Max\", \"age\": 28, \"email\": \"abc@def.com\"}\n",
    "mydict2 = dict(name = \"Mary\", age = 27, city = \"New York\")\n",
    "print(mydict1)\n",
    "print(mydict2)\n",
    "mydict1.update(mydict2)\n",
    "print(mydict1)"
   ]
  },
  {
   "cell_type": "markdown",
   "id": "b5f98991",
   "metadata": {},
   "source": [
    "## Set"
   ]
  },
  {
   "cell_type": "markdown",
   "id": "8350ad04",
   "metadata": {},
   "source": [
    "Set is unordered, mutable, and does not allow duplicates\n",
    "\n",
    "Sets can be defined using`{}`, same as dictionaries, but it does not require key - value pairs"
   ]
  },
  {
   "cell_type": "code",
   "execution_count": 8,
   "id": "979dfe29",
   "metadata": {},
   "outputs": [
    {
     "name": "stdout",
     "output_type": "stream",
     "text": [
      "{1, 2, 3}\n",
      "{1, 2, 3}\n",
      "{1, 2, 3}\n",
      "{'l', 'e', 'H', 'o'}\n",
      "<class 'dict'>\n",
      "<class 'set'>\n",
      "{1, 2, 3}\n",
      "{1, 2}\n",
      "{1, 2}\n"
     ]
    }
   ],
   "source": [
    "myset = {1, 2, 3}\n",
    "myset1 = {1, 2, 3, 2, 1}\n",
    "myset2 = set([1, 2, 3])\n",
    "myset3 = set(\"Hello\")\n",
    "print(myset)\n",
    "print(myset1)\n",
    "print(myset2)\n",
    "# note that letter \"l\" will only be printed once because set does not allow duplicates\n",
    "print(myset3)\n",
    "\n",
    "# define empty set\n",
    "emptyset = {}\n",
    "print(type(emptyset))\n",
    "# note that the type of emptyset is still dictionary\n",
    "# to define an empty set, we must use the set function\n",
    "emptyset1 = set()\n",
    "print(type(emptyset1))\n",
    "\n",
    "# add elements to empty set\n",
    "emptyset1.add(1)\n",
    "emptyset1.add(2)\n",
    "emptyset1.add(3)\n",
    "print(emptyset1)\n",
    "\n",
    "# remove elements from set (remove method)\n",
    "emptyset1.remove(3)\n",
    "print(emptyset1)\n",
    "# remove elements from set (discard method)\n",
    "# discard method will not raise error when key index is wrong\n",
    "emptyset1.discard(4) # no error like remove method\n",
    "print(emptyset1)"
   ]
  },
  {
   "cell_type": "markdown",
   "id": "2caa25a3",
   "metadata": {},
   "source": [
    "### Merging Sets"
   ]
  },
  {
   "cell_type": "code",
   "execution_count": 11,
   "id": "1b3f42cd",
   "metadata": {},
   "outputs": [
    {
     "name": "stdout",
     "output_type": "stream",
     "text": [
      "{1, 3, 5, 7, 9}\n",
      "{0, 2, 4, 6, 8}\n",
      "{2, 3, 5, 7}\n",
      "{0, 1, 2, 3, 4, 5, 6, 7, 8, 9}\n",
      "set()\n"
     ]
    }
   ],
   "source": [
    "odds = {1, 3, 5, 7, 9}\n",
    "evens = {0, 2, 4, 6, 8}\n",
    "primes = {2, 3, 5, 7}\n",
    "print(odds)\n",
    "print(evens)\n",
    "print(primes)\n",
    "\n",
    "# union (merging without duplicates)\n",
    "u = odds.union(evens)\n",
    "print(u)\n",
    "\n",
    "# intersection\n",
    "i = odds.intersection(evens)\n",
    "print(i) # empty set b/c odds and evens do not have same element(s)"
   ]
  },
  {
   "cell_type": "code",
   "execution_count": null,
   "id": "ac6e5805",
   "metadata": {},
   "outputs": [],
   "source": []
  }
 ],
 "metadata": {
  "kernelspec": {
   "display_name": "Python 3",
   "language": "python",
   "name": "python3"
  },
  "language_info": {
   "codemirror_mode": {
    "name": "ipython",
    "version": 3
   },
   "file_extension": ".py",
   "mimetype": "text/x-python",
   "name": "python",
   "nbconvert_exporter": "python",
   "pygments_lexer": "ipython3",
   "version": "3.8.8"
  }
 },
 "nbformat": 4,
 "nbformat_minor": 5
}
